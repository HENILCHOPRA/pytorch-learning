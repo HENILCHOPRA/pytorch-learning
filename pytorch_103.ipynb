{
  "nbformat": 4,
  "nbformat_minor": 0,
  "metadata": {
    "colab": {
      "name": "pytorch_103.ipynb",
      "provenance": [],
      "authorship_tag": "ABX9TyPrBtCfnGH7IvQ+ejoB9qR+",
      "include_colab_link": true
    },
    "kernelspec": {
      "name": "python3",
      "display_name": "Python 3"
    },
    "language_info": {
      "name": "python"
    }
  },
  "cells": [
    {
      "cell_type": "markdown",
      "metadata": {
        "id": "view-in-github",
        "colab_type": "text"
      },
      "source": [
        "<a href=\"https://colab.research.google.com/github/HENILCHOPRA/pytorch-learning/blob/main/pytorch_103.ipynb\" target=\"_parent\"><img src=\"https://colab.research.google.com/assets/colab-badge.svg\" alt=\"Open In Colab\"/></a>"
      ]
    },
    {
      "cell_type": "markdown",
      "source": [
        "# GPU training"
      ],
      "metadata": {
        "id": "OVcqOGr_X2pG"
      }
    },
    {
      "cell_type": "code",
      "source": [
        "import torch\n",
        "import numpy as np\n",
        "import torchvision\n",
        "from torchvision.datasets import MNIST\n",
        "from torchvision.transforms import ToTensor\n",
        "from torch.utils.data.sampler import SubsetRandomSampler\n",
        "from torch.utils.data.dataloader import DataLoader\n",
        "\n",
        "import torch.nn.functional as F\n",
        "import torch.nn as nn"
      ],
      "metadata": {
        "id": "K9wpaZPTX2EQ"
      },
      "execution_count": null,
      "outputs": []
    },
    {
      "cell_type": "code",
      "source": [
        "dataset = MNIST(root = '/content',\n",
        "                download = True,\n",
        "                transform = ToTensor())"
      ],
      "metadata": {
        "colab": {
          "base_uri": "https://localhost:8080/",
          "height": 443,
          "referenced_widgets": [
            "a2f95718b1f746e1bec76110b61b9214",
            "69a0110b349d413dbe684111bd3a3ba7",
            "099f9dea758d46c8be4fc6ae31bc27f0",
            "1e6fb576263b412a846d1e3ed5944056",
            "1d8d7a0b6bc34535805a27b72725c9e9",
            "d387a96349dc4be59f07da5754d9b481",
            "6249ffb7d6944d6fa525d4f41ce4ffd1",
            "34207bc54b2a407e9239535a891c262b",
            "b4787b63b862413e8766fdc24eb7b7d5",
            "ac919eff7bc347d091d2003a10a9cd5a",
            "bd9fd45766174de8882a3b3f38854203",
            "e65ce75f3d544212a0d459bac09e3403",
            "c88636d5f74b429cb704c5308de5797d",
            "f2d24fa7888e44e4a62e1e5cf4066e37",
            "43c0bb80a5db4d24966b2aa1467e77cc",
            "59a11e59e0f943d6b30602a4870c37df",
            "2cc4d86c0a4447ce9c8aca666a9db215",
            "8b1da6d681df4e158aa6d3f9fa30a6a6",
            "19d726fee62c454895a54d973d9df82c",
            "ca751043c2724adaa4f6d86ff0072151",
            "d1ec92c93b1043e1a233173a78df94bd",
            "9614f920390849a2b531477daaaf8bf7",
            "0adf975787b44dff8e8c2d055477e00c",
            "f2cfa67454614aedaa22168e573c94cd",
            "b8a0804ae2f0457fbefd622999e0e6d7",
            "f44204088a3a483781d2a8c39b2bfc47",
            "53837e96da3e442f940cb7717301cd71",
            "733aebafa3e74bc8addd25dbe932b8f3",
            "fb7cae72282c4b5faaed7e4e81eba4fa",
            "580479da582e49108ab3b8f6c99b3825",
            "d76b22fb4d4a42fc8489df46058f392a",
            "4ec2980c89214ab7aa0c9f016b2c4916",
            "88d34906f1e24ee38883c6209afe1fdd",
            "4a08269e855d405b8639f601ab219f87",
            "9e902e7c217d4efc99d08643266968bf",
            "e08198a0d01d410eac71c10715184a65",
            "e1a3063cb6de43539c8b0dac4e1401c9",
            "b91609999709434e8939025c59315a0e",
            "3cca981c1f1f49aeb519ffc12dd4e1d2",
            "e12499a4219e4693afa3ce8e880629c9",
            "1b3b4622db8b434eae7cbf09fa47f242",
            "8ee2cd3235544fa2b9a955cff6b529c6",
            "4fde1abac1234bbebd3c619e1dabdbed",
            "767f1f073c7c40a0a0255080809158d0"
          ]
        },
        "id": "_isPqqcSYlQh",
        "outputId": "b839fd92-f882-4ef7-dd9a-83f1df207a22"
      },
      "execution_count": null,
      "outputs": [
        {
          "output_type": "stream",
          "name": "stdout",
          "text": [
            "Downloading http://yann.lecun.com/exdb/mnist/train-images-idx3-ubyte.gz\n",
            "Downloading http://yann.lecun.com/exdb/mnist/train-images-idx3-ubyte.gz to /content/MNIST/raw/train-images-idx3-ubyte.gz\n"
          ]
        },
        {
          "output_type": "display_data",
          "data": {
            "application/vnd.jupyter.widget-view+json": {
              "model_id": "a2f95718b1f746e1bec76110b61b9214",
              "version_minor": 0,
              "version_major": 2
            },
            "text/plain": [
              "  0%|          | 0/9912422 [00:00<?, ?it/s]"
            ]
          },
          "metadata": {}
        },
        {
          "output_type": "stream",
          "name": "stdout",
          "text": [
            "Extracting /content/MNIST/raw/train-images-idx3-ubyte.gz to /content/MNIST/raw\n",
            "\n",
            "Downloading http://yann.lecun.com/exdb/mnist/train-labels-idx1-ubyte.gz\n",
            "Downloading http://yann.lecun.com/exdb/mnist/train-labels-idx1-ubyte.gz to /content/MNIST/raw/train-labels-idx1-ubyte.gz\n"
          ]
        },
        {
          "output_type": "display_data",
          "data": {
            "application/vnd.jupyter.widget-view+json": {
              "model_id": "e65ce75f3d544212a0d459bac09e3403",
              "version_minor": 0,
              "version_major": 2
            },
            "text/plain": [
              "  0%|          | 0/28881 [00:00<?, ?it/s]"
            ]
          },
          "metadata": {}
        },
        {
          "output_type": "stream",
          "name": "stdout",
          "text": [
            "Extracting /content/MNIST/raw/train-labels-idx1-ubyte.gz to /content/MNIST/raw\n",
            "\n",
            "Downloading http://yann.lecun.com/exdb/mnist/t10k-images-idx3-ubyte.gz\n",
            "Downloading http://yann.lecun.com/exdb/mnist/t10k-images-idx3-ubyte.gz to /content/MNIST/raw/t10k-images-idx3-ubyte.gz\n"
          ]
        },
        {
          "output_type": "display_data",
          "data": {
            "application/vnd.jupyter.widget-view+json": {
              "model_id": "0adf975787b44dff8e8c2d055477e00c",
              "version_minor": 0,
              "version_major": 2
            },
            "text/plain": [
              "  0%|          | 0/1648877 [00:00<?, ?it/s]"
            ]
          },
          "metadata": {}
        },
        {
          "output_type": "stream",
          "name": "stdout",
          "text": [
            "Extracting /content/MNIST/raw/t10k-images-idx3-ubyte.gz to /content/MNIST/raw\n",
            "\n",
            "Downloading http://yann.lecun.com/exdb/mnist/t10k-labels-idx1-ubyte.gz\n",
            "Downloading http://yann.lecun.com/exdb/mnist/t10k-labels-idx1-ubyte.gz to /content/MNIST/raw/t10k-labels-idx1-ubyte.gz\n"
          ]
        },
        {
          "output_type": "display_data",
          "data": {
            "application/vnd.jupyter.widget-view+json": {
              "model_id": "4a08269e855d405b8639f601ab219f87",
              "version_minor": 0,
              "version_major": 2
            },
            "text/plain": [
              "  0%|          | 0/4542 [00:00<?, ?it/s]"
            ]
          },
          "metadata": {}
        },
        {
          "output_type": "stream",
          "name": "stdout",
          "text": [
            "Extracting /content/MNIST/raw/t10k-labels-idx1-ubyte.gz to /content/MNIST/raw\n",
            "\n"
          ]
        }
      ]
    },
    {
      "cell_type": "code",
      "source": [
        "def split_indices(n, val_percent):\n",
        "  n_val = int(n * val_percent)\n",
        "\n",
        "  idxs = np.random.permutation(n)\n",
        "  return idxs[n_val:], idxs[:n_val]"
      ],
      "metadata": {
        "id": "KlCbEf4ZY3Sw"
      },
      "execution_count": null,
      "outputs": []
    },
    {
      "cell_type": "code",
      "source": [
        "train_idx,val_idx = split_indices(len(dataset), 0.3)\n",
        "len(train_idx),len(val_idx)"
      ],
      "metadata": {
        "colab": {
          "base_uri": "https://localhost:8080/"
        },
        "id": "qs39A_vRabOU",
        "outputId": "167ef63f-c33a-422c-cc4f-91f3f96b5fab"
      },
      "execution_count": null,
      "outputs": [
        {
          "output_type": "execute_result",
          "data": {
            "text/plain": [
              "(42000, 18000)"
            ]
          },
          "metadata": {},
          "execution_count": 4
        }
      ]
    },
    {
      "cell_type": "code",
      "source": [
        "batch_size = 100\n",
        "\n",
        "train_sampler = SubsetRandomSampler(train_idx)\n",
        "train_dl = DataLoader(dataset,\n",
        "                      batch_size,\n",
        "                      sampler = train_sampler)\n",
        "\n",
        "val_sampler = SubsetRandomSampler(val_idx)\n",
        "val_dl = DataLoader(dataset,\n",
        "                      batch_size,\n",
        "                      sampler = train_sampler)"
      ],
      "metadata": {
        "id": "q8agmqCXatPi"
      },
      "execution_count": null,
      "outputs": []
    },
    {
      "cell_type": "code",
      "source": [
        "class MnistModel(nn.Module):\n",
        "  def __init__(self, in_size, hidden_size, out_size):\n",
        "    super().__init__()\n",
        "    self.linear = nn.Linear(in_size, hidden_size)\n",
        "    self.linear2 = nn.Linear(hidden_size,out_size)\n",
        "\n",
        "  def forward(self, xb):\n",
        "    xb = xb.view(xb.size(0), -1) #view() uses same block of memory\n",
        "    out = self.linear(xb)\n",
        "    out = F.relu(out)\n",
        "\n",
        "    out = self.linear2(out)\n",
        "    return out"
      ],
      "metadata": {
        "id": "FlQw-bNQbVH_"
      },
      "execution_count": null,
      "outputs": []
    },
    {
      "cell_type": "code",
      "source": [
        "input_size = 784\n",
        "num_classes = 10\n",
        "\n",
        "model = MnistModel(input_size, hidden_size = 64, out_size = num_classes)"
      ],
      "metadata": {
        "id": "Y98F4Lshu58V"
      },
      "execution_count": null,
      "outputs": []
    },
    {
      "cell_type": "code",
      "source": [
        "for layer in model.parameters():\n",
        "  print(layer.shape)"
      ],
      "metadata": {
        "colab": {
          "base_uri": "https://localhost:8080/"
        },
        "id": "mtWg12vvvg1S",
        "outputId": "09574a9f-bb97-4a0e-8301-af4c67088dab"
      },
      "execution_count": null,
      "outputs": [
        {
          "output_type": "stream",
          "name": "stdout",
          "text": [
            "torch.Size([64, 784])\n",
            "torch.Size([64])\n",
            "torch.Size([10, 64])\n",
            "torch.Size([10])\n"
          ]
        }
      ]
    },
    {
      "cell_type": "code",
      "source": [
        "for images, labels in train_dl:\n",
        "  outputs = model(images)\n",
        "  loss = F.cross_entropy(outputs, labels)\n",
        "  print(loss.item())\n",
        "  break\n",
        "\n",
        "F.softmax(outputs)[:10]"
      ],
      "metadata": {
        "colab": {
          "base_uri": "https://localhost:8080/"
        },
        "id": "EmMCkpLYzSBm",
        "outputId": "de269b6f-4d68-46d1-a9fe-e1f05d2e6f8a"
      },
      "execution_count": null,
      "outputs": [
        {
          "output_type": "stream",
          "name": "stdout",
          "text": [
            "2.297187089920044\n"
          ]
        },
        {
          "output_type": "stream",
          "name": "stderr",
          "text": [
            "/usr/local/lib/python3.7/dist-packages/ipykernel_launcher.py:7: UserWarning: Implicit dimension choice for softmax has been deprecated. Change the call to include dim=X as an argument.\n",
            "  import sys\n"
          ]
        },
        {
          "output_type": "execute_result",
          "data": {
            "text/plain": [
              "tensor([[0.0951, 0.1318, 0.0981, 0.1128, 0.0904, 0.0840, 0.0828, 0.0782, 0.0991,\n",
              "         0.1276],\n",
              "        [0.0870, 0.1118, 0.1088, 0.1078, 0.0886, 0.0958, 0.0808, 0.0929, 0.1106,\n",
              "         0.1159],\n",
              "        [0.0895, 0.1148, 0.1189, 0.1042, 0.0918, 0.0961, 0.0815, 0.0899, 0.1047,\n",
              "         0.1087],\n",
              "        [0.0906, 0.1118, 0.1154, 0.1139, 0.0931, 0.0950, 0.0820, 0.0853, 0.1028,\n",
              "         0.1100],\n",
              "        [0.0992, 0.1108, 0.1119, 0.1059, 0.0965, 0.0983, 0.0848, 0.0871, 0.1028,\n",
              "         0.1028],\n",
              "        [0.0986, 0.1080, 0.1035, 0.1097, 0.0966, 0.0922, 0.0827, 0.0928, 0.1063,\n",
              "         0.1095],\n",
              "        [0.0932, 0.1117, 0.1152, 0.1056, 0.0992, 0.0889, 0.0846, 0.0866, 0.1054,\n",
              "         0.1097],\n",
              "        [0.0890, 0.0983, 0.1004, 0.1132, 0.0943, 0.0966, 0.0811, 0.0939, 0.1126,\n",
              "         0.1207],\n",
              "        [0.0890, 0.1153, 0.1145, 0.0994, 0.0973, 0.0908, 0.0838, 0.0919, 0.1042,\n",
              "         0.1139],\n",
              "        [0.0995, 0.1058, 0.1045, 0.1131, 0.0916, 0.0888, 0.0814, 0.0930, 0.1091,\n",
              "         0.1131]], grad_fn=<SliceBackward0>)"
            ]
          },
          "metadata": {},
          "execution_count": 9
        }
      ]
    },
    {
      "cell_type": "markdown",
      "source": [
        "*Use GPU*"
      ],
      "metadata": {
        "id": "wUJ1TjIF0xtt"
      }
    },
    {
      "cell_type": "code",
      "source": [
        "torch.cuda.is_available()"
      ],
      "metadata": {
        "colab": {
          "base_uri": "https://localhost:8080/"
        },
        "id": "EFLTeRTH0Lb2",
        "outputId": "d7cc9a97-15e7-4b7a-b891-c3ac22a6e8ca"
      },
      "execution_count": null,
      "outputs": [
        {
          "output_type": "execute_result",
          "data": {
            "text/plain": [
              "True"
            ]
          },
          "metadata": {},
          "execution_count": 10
        }
      ]
    },
    {
      "cell_type": "code",
      "source": [
        "torch.device('cuda') #use GPU "
      ],
      "metadata": {
        "colab": {
          "base_uri": "https://localhost:8080/"
        },
        "id": "f36jIeai6oF1",
        "outputId": "5b4796b6-f9f4-43fa-af40-0257b8ec2e2c"
      },
      "execution_count": null,
      "outputs": [
        {
          "output_type": "execute_result",
          "data": {
            "text/plain": [
              "device(type='cuda')"
            ]
          },
          "metadata": {},
          "execution_count": 11
        }
      ]
    },
    {
      "cell_type": "code",
      "source": [
        "from numpy.lib.arraysetops import isin\n",
        "device = torch.device('cuda')\n",
        "\n",
        "def to_device(data, device):\n",
        "  if isinstance(data, (list, tuple)):\n",
        "    return [to_device(x, device) for x in data]\n",
        "  else:\n",
        "    return data.to(device, non_blocking = True)\n",
        "\n",
        "class DeviceDataLoader():\n",
        "  def __init__(self, dl, device):\n",
        "    self.dl = dl\n",
        "    self.device = device\n",
        "\n",
        "  def __iter__(self):\n",
        "    for b in self.dl:\n",
        "      yield to_device(b, self.device)\n",
        "  def __len__(self):\n",
        "    return len(self.dl)"
      ],
      "metadata": {
        "id": "xkvfbGt_6sZF"
      },
      "execution_count": null,
      "outputs": []
    },
    {
      "cell_type": "code",
      "source": [
        "def loss_batch(model, loss_func, xb, yb, opt = None, metric = None): # train_batch function\n",
        "  preds = model(xb)\n",
        "\n",
        "  loss = loss_func(preds, yb)\n",
        "\n",
        "  if opt is not None:\n",
        "    loss.backward()\n",
        "\n",
        "    opt.step()\n",
        "\n",
        "    opt.zero_grad()\n",
        "\n",
        "  metric_result = None\n",
        "\n",
        "  if metric is not None:\n",
        "    metric_result = metric(preds, yb)\n",
        "\n",
        "  return loss.item(), len(xb), metric_result\n",
        "\n",
        "def evaluate(model, loss_fn, val_dl, metric = None):\n",
        "  with torch.no_grad():\n",
        "    results = [loss_batch(model, loss_fn, xb, yb, metric = metric) for xb, yb in val_dl]\n",
        "\n",
        "  losses, nums, metrics = zip(*results)\n",
        "  total = np.sum(nums)\n",
        "\n",
        "  avg_loss = np.sum(np.multiply(losses, nums)) / total\n",
        "  avg_metric = None\n",
        "  if metric is not None:\n",
        "    avg_metric = np.sum(np.multiply(metrics, nums)) / total\n",
        "\n",
        "  return avg_loss, total, avg_metric\n"
      ],
      "metadata": {
        "id": "6jq_x-cL87jk"
      },
      "execution_count": null,
      "outputs": []
    },
    {
      "cell_type": "code",
      "source": [
        "from re import L\n",
        "\n",
        "def fit(epochs, lr, model, loss_fn, train_dl, val_dl, metric = None, opt_fn = None):\n",
        "  losses, metrics = [], []\n",
        "  if opt_fn is None:opt_fn = torch.optim.SGD\n",
        "  opt = torch.optim.SGD(model.parameters(), lr = lr)\n",
        "  \n",
        "  # result = evaluate(model, loss_fn, val_dl, metric)\n",
        "\n",
        "  for epoch in range(epochs):\n",
        "\n",
        "    for xb, yb in train_dl:\n",
        "      loss_batch(model, loss_fn, xb, yb, opt)\n",
        "\n",
        "    val_loss, total, val_metric = evaluate(model, loss_fn, val_dl, metric)\n",
        "\n",
        "    losses.append(val_loss)\n",
        "    metrics.append(val_metric)\n",
        "    if metric is None:\n",
        "      print(epoch, \" : \", val_loss)\n",
        "\n",
        "    else:\n",
        "      print(epoch, \" : \", val_loss,\" \\nmetric: \", val_metric)\n",
        "  return losses, metrics"
      ],
      "metadata": {
        "id": "jXFjE2M09CQ7"
      },
      "execution_count": null,
      "outputs": []
    },
    {
      "cell_type": "code",
      "source": [
        "def accuracy(outputs, labels):\n",
        "  _, preds = torch.max(outputs, dim = 1)\n",
        "  return torch.sum(preds == labels).item() / len(preds)"
      ],
      "metadata": {
        "id": "GCvLRdgsRZNy"
      },
      "execution_count": null,
      "outputs": []
    },
    {
      "cell_type": "code",
      "source": [
        "model = MnistModel(input_size, hidden_size = 128, out_size = num_classes)\n",
        "to_device(model, device)        \n",
        "val_dl = DeviceDataLoader(val_dl, device)\n",
        "train_dl = DeviceDataLoader(train_dl, device)"
      ],
      "metadata": {
        "id": "nJEc8QEXRty_"
      },
      "execution_count": null,
      "outputs": []
    },
    {
      "cell_type": "code",
      "source": [
        "val_loss, total, val_acc = evaluate(model, F.cross_entropy, val_dl, metric = accuracy)\n",
        "val_loss, val_acc"
      ],
      "metadata": {
        "id": "ypFkIMiFR6V9"
      },
      "execution_count": null,
      "outputs": []
    },
    {
      "cell_type": "code",
      "source": [
        "fit(5, 0.1, model, F.cross_entropy, train_dl, val_dl, metric = accuracy)"
      ],
      "metadata": {
        "id": "wmQ5GpZWV63P"
      },
      "execution_count": null,
      "outputs": []
    },
    {
      "cell_type": "code",
      "source": [
        "exit"
      ],
      "metadata": {
        "id": "63ojIenw4lue"
      },
      "execution_count": null,
      "outputs": []
    },
    {
      "cell_type": "markdown",
      "source": [
        "# CNN/ ResNet"
      ],
      "metadata": {
        "id": "uNak8jD-z2ey"
      }
    },
    {
      "cell_type": "code",
      "source": [
        "import os\n",
        "import torch\n",
        "import tarfile\n",
        "from torchvision.datasets.utils import download_url\n",
        "\n",
        "from torch.utils.data.sampler import SubsetRandomSampler\n",
        "from torch.utils.data.dataloader import DataLoader\n",
        "\n",
        "import torch.nn.functional as F\n",
        "import torch.nn as nn"
      ],
      "metadata": {
        "id": "nLwrY3ctX1N0"
      },
      "execution_count": null,
      "outputs": []
    },
    {
      "cell_type": "code",
      "source": [
        "# dataset_url = \"http://files.fast.ai/data/cifar10.tgz\"\n",
        "# download_url(dataset_url, '/content/')"
      ],
      "metadata": {
        "id": "riyPY1k83MV4"
      },
      "execution_count": null,
      "outputs": []
    },
    {
      "cell_type": "code",
      "source": [
        "with tarfile.open(\"/content/cifar10.tgz\") as tar:\n",
        "  tar.extractall(path = \"/content/\")"
      ],
      "metadata": {
        "id": "ZEgVLHfL3n6h"
      },
      "execution_count": null,
      "outputs": []
    },
    {
      "cell_type": "code",
      "source": [
        "data_dir = \"/content/cifar10\"\n",
        "classes = os.listdir(data_dir + '/train')\n",
        "classes"
      ],
      "metadata": {
        "id": "x4v_gGmb5Ocx",
        "colab": {
          "base_uri": "https://localhost:8080/"
        },
        "outputId": "b0fe3cd1-fdae-4b27-c36e-9ccf01dc0b43"
      },
      "execution_count": null,
      "outputs": [
        {
          "output_type": "execute_result",
          "data": {
            "text/plain": [
              "['deer',\n",
              " 'horse',\n",
              " 'truck',\n",
              " 'airplane',\n",
              " 'frog',\n",
              " 'dog',\n",
              " 'cat',\n",
              " 'ship',\n",
              " 'automobile',\n",
              " 'bird']"
            ]
          },
          "metadata": {},
          "execution_count": 3
        }
      ]
    },
    {
      "cell_type": "code",
      "source": [
        "from torchvision.datasets import ImageFolder\n",
        "from torchvision.transforms import ToTensor"
      ],
      "metadata": {
        "id": "5njDMg5s5cFg"
      },
      "execution_count": null,
      "outputs": []
    },
    {
      "cell_type": "code",
      "source": [
        "dataset = ImageFolder(data_dir + '/train', transform = ToTensor())"
      ],
      "metadata": {
        "id": "ADamlT2I5vg5"
      },
      "execution_count": null,
      "outputs": []
    },
    {
      "cell_type": "code",
      "source": [
        "img, label = dataset[0]\n",
        "print(img.shape, label)"
      ],
      "metadata": {
        "id": "FqAdimdE5_Ct",
        "colab": {
          "base_uri": "https://localhost:8080/"
        },
        "outputId": "67a86761-3d0a-476b-affe-e6407d260639"
      },
      "execution_count": null,
      "outputs": [
        {
          "output_type": "stream",
          "name": "stdout",
          "text": [
            "torch.Size([3, 32, 32]) 0\n"
          ]
        }
      ]
    },
    {
      "cell_type": "code",
      "source": [
        "print(dataset.classes)"
      ],
      "metadata": {
        "id": "IHyU-h9C6X37",
        "colab": {
          "base_uri": "https://localhost:8080/"
        },
        "outputId": "2a02ce36-3202-49a5-b51b-246be26d9258"
      },
      "execution_count": null,
      "outputs": [
        {
          "output_type": "stream",
          "name": "stdout",
          "text": [
            "['airplane', 'automobile', 'bird', 'cat', 'deer', 'dog', 'frog', 'horse', 'ship', 'truck']\n"
          ]
        }
      ]
    },
    {
      "cell_type": "code",
      "source": [
        "import matplotlib.pyplot as plt\n",
        "\n",
        "def show_example(img, label):\n",
        "  print('label: ', dataset.classes[label])\n",
        "\n",
        "  plt.imshow(img.permute([1,2,0]))"
      ],
      "metadata": {
        "id": "y8FF_zsa6cSc"
      },
      "execution_count": null,
      "outputs": []
    },
    {
      "cell_type": "code",
      "source": [
        "# show_example(*dataset[10000])"
      ],
      "metadata": {
        "id": "ZJXjjUyn7OmU"
      },
      "execution_count": null,
      "outputs": []
    },
    {
      "cell_type": "code",
      "source": [
        "import numpy as np\n",
        "\n",
        "def split_idx(n, val_percent):\n",
        "  n_val = int(n * val_percent)\n",
        "  idxs = np.random.permutation(n)\n",
        "  return idxs[n_val:], idxs[:n_val]\n",
        "\n",
        "val_pct = 0.3\n",
        "train_idx, val_idx = split_idx(len(dataset), val_pct)\n"
      ],
      "metadata": {
        "id": "aMU8Bicv7nEx"
      },
      "execution_count": null,
      "outputs": []
    },
    {
      "cell_type": "code",
      "source": [
        "batch_size = 100\n",
        "train_sampler = SubsetRandomSampler(train_idx)\n",
        "train_dl = DataLoader(dataset,\n",
        "                      batch_size= batch_size,\n",
        "                      sampler = train_sampler)\n",
        "\n",
        "val_sampler = SubsetRandomSampler(val_idx)\n",
        "val_dl = DataLoader(dataset,\n",
        "                      batch_size= batch_size,\n",
        "                      sampler = val_sampler)"
      ],
      "metadata": {
        "id": "aNSnbax48NIQ"
      },
      "execution_count": null,
      "outputs": []
    },
    {
      "cell_type": "code",
      "source": [
        "for x, y in val_dl:\n",
        "  print(x.shape, y.shape)\n",
        "  break"
      ],
      "metadata": {
        "id": "u8NCj63X9ApO"
      },
      "execution_count": null,
      "outputs": []
    },
    {
      "cell_type": "code",
      "source": [
        "simple_model = nn.Sequential(\n",
        "    nn.Conv2d(3,8, kernel_size = 3, stride = 1, padding = 1), \n",
        "    #nn.Conv2d(input_channels, output_channels: number of filters)\n",
        "    nn.MaxPool2d(2,2)\n",
        ")\n",
        "for images, labels in train_dl:\n",
        "  print(images.shape)\n",
        "  out = simple_model(images)\n",
        "  print(out.shape)\n",
        "  break"
      ],
      "metadata": {
        "id": "09jlFmhL-1Sn"
      },
      "execution_count": null,
      "outputs": []
    },
    {
      "cell_type": "code",
      "source": [
        "# model = nn.Sequential(\n",
        "#     nn.Conv2d(3,16, kernel_size = 3, stride = 1, padding = 1),\n",
        "#     nn.ReLU(),\n",
        "#     nn.MaxPool2d((2,2)), #output: bs x 16 x 16 x 16\n",
        "\n",
        "#     nn.Conv2d(16,16, kernel_size = 3, stride = 1, padding = 1),\n",
        "#     nn.ReLU(),\n",
        "#     nn.MaxPool2d((2,2)), #output: bs x 16 x 8 x 8\n",
        "\n",
        "#     nn.Conv2d(16,16, kernel_size = 3, stride = 1, padding = 1),\n",
        "#     nn.ReLU(),\n",
        "#     nn.MaxPool2d((2,2)), #output: bs x 16 x 4 x 4\n",
        "\n",
        "#     nn.Conv2d(16,16, kernel_size = 3, stride = 1, padding = 1),\n",
        "#     nn.ReLU(),\n",
        "#     nn.MaxPool2d((2,2)), #output: bs x 16 x 2 x 2\n",
        "\n",
        "#     nn.Conv2d(16,16, kernel_size = 3, stride = 1, padding = 1),\n",
        "#     nn.ReLU(),\n",
        "#     nn.MaxPool2d((2,2)), #output: bs x 16 x 1 x 1\n",
        "\n",
        "#     nn.Flatten(), #output: bs x 16\n",
        "#     nn.Linear(16,10)  #output: bs x 10\n",
        "# )\n",
        "\n",
        "model = nn.Sequential(\n",
        "            nn.Conv2d(3, 32, kernel_size=3, padding=1),\n",
        "            nn.ReLU(),\n",
        "            nn.Conv2d(32, 64, kernel_size=3, stride=1, padding=1),\n",
        "            nn.ReLU(),\n",
        "            nn.MaxPool2d(2, 2), # output: 64 x 16 x 16\n",
        "\n",
        "            nn.Conv2d(64, 128, kernel_size=3, stride=1, padding=1),\n",
        "            nn.ReLU(),\n",
        "            nn.Conv2d(128, 128, kernel_size=3, stride=1, padding=1),\n",
        "            nn.ReLU(),\n",
        "            nn.MaxPool2d(2, 2), # output: 128 x 8 x 8\n",
        "\n",
        "            nn.Conv2d(128, 256, kernel_size=3, stride=1, padding=1),\n",
        "            nn.ReLU(),\n",
        "            nn.Conv2d(256, 256, kernel_size=3, stride=1, padding=1),\n",
        "            nn.ReLU(),\n",
        "            nn.MaxPool2d(2, 2), # output: 256 x 4 x 4\n",
        "\n",
        "            nn.Flatten(), \n",
        "            nn.Linear(256*4*4, 1024),\n",
        "            nn.ReLU(),\n",
        "            nn.Linear(1024, 512),\n",
        "            nn.ReLU(),\n",
        "            nn.Linear(512, 10))"
      ],
      "metadata": {
        "id": "XWS8b5wd-JGE"
      },
      "execution_count": null,
      "outputs": []
    },
    {
      "cell_type": "code",
      "source": [
        "model[3].weight.shape"
      ],
      "metadata": {
        "id": "R87kkVbdeOMO"
      },
      "execution_count": null,
      "outputs": []
    },
    {
      "cell_type": "code",
      "source": [
        "for images, labels in train_dl:\n",
        "  print(images.shape)\n",
        "  out = model(images)\n",
        "  print(out.shape)\n",
        "  break"
      ],
      "metadata": {
        "id": "Ou5ZwbdKgxeD"
      },
      "execution_count": null,
      "outputs": []
    },
    {
      "cell_type": "code",
      "source": [
        "probs = F.softmax(out, dim = 1)\n",
        "max_values, max_indxs = torch.max(probs, dim = 1)"
      ],
      "metadata": {
        "id": "pRDhQEETg3UH"
      },
      "execution_count": null,
      "outputs": []
    },
    {
      "cell_type": "code",
      "source": [
        "def get_default_device():\n",
        "  if torch.cuda.is_available():\n",
        "    return torch.device('cuda')\n",
        "  else:\n",
        "    return torch.device('cpu')\n",
        "\n",
        "def to_device(data, device):\n",
        "  if isinstance(data, (list, tuple)):\n",
        "    return [to_device(x, device) for x in data]\n",
        "\n",
        "  else:\n",
        "    return data.to(device, non_blocking = True)\n",
        "\n",
        "class DeviceDataLoader():\n",
        "  def __init__(self, dl, device):\n",
        "    self.dl = dl\n",
        "    self.device = device\n",
        "\n",
        "  def __iter__(self):\n",
        "    for b in self.dl:\n",
        "      yield to_device(b, self.device)\n",
        "\n",
        "  def __len__(self):\n",
        "    return len(self.dl)"
      ],
      "metadata": {
        "id": "fadtfbzRgtZD"
      },
      "execution_count": null,
      "outputs": []
    },
    {
      "cell_type": "code",
      "source": [
        "device = get_default_device()\n",
        "device"
      ],
      "metadata": {
        "id": "gfqTV9qAh7He"
      },
      "execution_count": null,
      "outputs": []
    },
    {
      "cell_type": "code",
      "source": [
        "model = to_device(model, device)\n",
        "train_dl = DeviceDataLoader(train_dl, device)\n",
        "val_dl = DeviceDataLoader(val_dl, device)"
      ],
      "metadata": {
        "id": "oTHoLLINh-hY"
      },
      "execution_count": null,
      "outputs": []
    },
    {
      "cell_type": "code",
      "source": [
        "model"
      ],
      "metadata": {
        "id": "jorGMJ6fPWj4"
      },
      "execution_count": null,
      "outputs": []
    },
    {
      "cell_type": "code",
      "source": [
        "# def loss_batch(model, loss_fn, xb, yb, opt = None, metric = None):\n",
        "#   preds = model(xb)\n",
        "#   loss = loss_fn(preds, yb)\n",
        "\n",
        "#   if opt is not None:\n",
        "#     loss.backward()\n",
        "#     opt.step()\n",
        "#     opt.zero_grad()\n",
        "\n",
        "#   metric_result = None\n",
        "#   if metric is not None:\n",
        "#     metric_result = metric(preds, yb)\n",
        "\n",
        "#   return loss.item(), len(xb), metric_result\n",
        "\n",
        "# def evaluate(model, loss_fn, val_dl, metric = None):\n",
        "#   with torch.no_grad():\n",
        "#     results = [loss_batch(model, loss_fn, xb, yb, metric = metric) for xb, yb in val_dl]\n",
        "\n",
        "#   losses, num, metrics = zip(*results)\n",
        "#   total = np.sum(num)\n",
        "\n",
        "#   avg_loss = np.sum(np.multiply(losses, num)/total)\n",
        "#   avg_metric = None\n",
        "#   if metric is not None:\n",
        "#     avg_metric = np.sum(np.multiply(metrics, num)) / total\n",
        "\n",
        "#   return avg_loss, total, avg_metric\n",
        "\n",
        "\n",
        "def loss_batch(model, loss_func, xb, yb, opt = None, metric = None): # train_batch function\n",
        "  preds = model(xb)\n",
        "\n",
        "  loss = loss_func(preds, yb)\n",
        "\n",
        "  if opt is not None:\n",
        "    loss.backward()\n",
        "\n",
        "    opt.step()\n",
        "\n",
        "    opt.zero_grad()\n",
        "\n",
        "  metric_result = None\n",
        "  if metric is not None:\n",
        "    metric_result = metric(preds, yb)\n",
        "\n",
        "  return loss.item(), len(xb), metric_result\n",
        "\n",
        "def evaluate(model, loss_fn, val_dl, metric = None):\n",
        "  with torch.no_grad():\n",
        "    results = [loss_batch(model, loss_fn, xb, yb, metric = metric) for xb, yb in val_dl]\n",
        "\n",
        "  losses, nums, metrics = zip(*results)\n",
        "  total = np.sum(nums)\n",
        "\n",
        "  avg_loss = np.sum(np.multiply(losses, nums)) / total\n",
        "  avg_metric = None\n",
        "  if metric is not None:\n",
        "    avg_metric = np.sum(np.multiply(metrics, nums)) / total\n",
        "\n",
        "  return avg_loss, total, avg_metric"
      ],
      "metadata": {
        "id": "It8dvHDaiMu6"
      },
      "execution_count": null,
      "outputs": []
    },
    {
      "cell_type": "code",
      "source": [
        "def fit(epochs, model, loss_fn, train_dl, val_dl,\n",
        "        opt = None, lr = None, metric = None):\n",
        "  train_losses, val_losses, val_metrics = [], [], []\n",
        "  \n",
        "  if opt is None: opt = torch.optim.SGD\n",
        "  opt = opt(model.parameters(), lr = lr)\n",
        "\n",
        "  for epoch in range(epochs):\n",
        "    # model.train() ##############################################\n",
        "    for xb, yb in train_dl:\n",
        "      train_loss, _, _ = loss_batch(model, loss_fn, xb, yb, opt)\n",
        "    # model.eval()\n",
        "    val_loss, total, val_metric = evaluate(model, loss_fn, val_dl, metric)\n",
        "    \n",
        "    train_losses.append(train_loss)\n",
        "    val_losses.append(val_loss)\n",
        "    val_metrics.append(val_metric)\n",
        "\n",
        "    if metric is None:\n",
        "      print(f'Epoch [{epoch}/{epochs}], train_loss: {train_loss}, val_loss: {val_loss}')\n",
        "    else:\n",
        "          print(f'Epoch [{epoch}/{epochs}], train_loss: {train_loss}, val_loss: {val_loss}, metric:{val_metric}')"
      ],
      "metadata": {
        "id": "9oSb17kHjVnC"
      },
      "execution_count": null,
      "outputs": []
    },
    {
      "cell_type": "code",
      "source": [
        "def accuracy(outputs, labels):\n",
        "  _, preds = torch.max(outputs, dim = 1)\n",
        "  return torch.sum(preds == labels).item() / len(preds)"
      ],
      "metadata": {
        "id": "xm1NtWa6pfus"
      },
      "execution_count": null,
      "outputs": []
    },
    {
      "cell_type": "code",
      "source": [
        "evaluate(model, F.cross_entropy, val_dl, metric = accuracy)"
      ],
      "metadata": {
        "id": "Uuh1h9nlpwdg"
      },
      "execution_count": null,
      "outputs": []
    },
    {
      "cell_type": "code",
      "source": [
        "fit(5, model, F.cross_entropy, train_dl, val_dl,\n",
        "        opt = torch.optim.SGD, lr = 0.01, metric = accuracy)"
      ],
      "metadata": {
        "id": "M3p40KyGQBWt"
      },
      "execution_count": null,
      "outputs": []
    }
  ]
}