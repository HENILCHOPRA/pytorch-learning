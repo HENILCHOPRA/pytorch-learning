{
  "nbformat": 4,
  "nbformat_minor": 0,
  "metadata": {
    "colab": {
      "name": "pytorch_102.ipynb",
      "provenance": [],
      "collapsed_sections": [],
      "authorship_tag": "ABX9TyOqEoTkEBg/rg7LAKHBSCKV",
      "include_colab_link": true
    },
    "kernelspec": {
      "name": "python3",
      "display_name": "Python 3"
    },
    "language_info": {
      "name": "python"
    }
  },
  "cells": [
    {
      "cell_type": "markdown",
      "metadata": {
        "id": "view-in-github",
        "colab_type": "text"
      },
      "source": [
        "<a href=\"https://colab.research.google.com/github/HENILCHOPRA/pytorch-learning/blob/main/pytorch_102.ipynb\" target=\"_parent\"><img src=\"https://colab.research.google.com/assets/colab-badge.svg\" alt=\"Open In Colab\"/></a>"
      ]
    },
    {
      "cell_type": "markdown",
      "source": [
        "***<h1> Image Classification</h1>***"
      ],
      "metadata": {
        "id": "H-WXBniRk3-b"
      }
    },
    {
      "cell_type": "code",
      "source": [
        "import torch\n",
        "import torchvision\n",
        "from torchvision.transforms import transforms\n",
        "from torchvision.datasets import MNIST\n",
        "from PIL import Image\n",
        "import matplotlib.pyplot as plt\n",
        "%matplotlib inline"
      ],
      "metadata": {
        "id": "9EQZesSak3yI"
      },
      "execution_count": null,
      "outputs": []
    },
    {
      "cell_type": "markdown",
      "source": [
        ""
      ],
      "metadata": {
        "id": "-fRqPL0Gn-Rv"
      }
    },
    {
      "cell_type": "code",
      "source": [
        "train_dataset = MNIST(root = '/content/', download = True)"
      ],
      "metadata": {
        "colab": {
          "base_uri": "https://localhost:8080/",
          "height": 443,
          "referenced_widgets": [
            "d3342e10f80c4b328776639f06c70660",
            "a686ca3603044632b6befc739e80bd73",
            "5dd33c4cd1314129a65482e4405c047e",
            "05749a3d7aae410cbd8829b561330bd7",
            "c88ecfdc606d4e22937da666a9cd1bbd",
            "91f8a942d9fb41b3ae75e7d188ae582b",
            "3fdce668183d42f295f04da7b452a284",
            "733e266932654bf281b49c7c04cae8c1",
            "8f016c18e0ba4663ba6f4a70bb1a8ef0",
            "f4cb9a2fca7942e0bd95e0b5bdaa574d",
            "9269683996df45748fea57bef873b9db",
            "c0e85fcc6f0b4d7eb6f8500dd0d2b92d",
            "15e09778b9804cf88d0eea51fe1fd879",
            "76d38092f9e341b8af3aa415a5c78bea",
            "a595e8e95bce4f8abc38858b3d70afcc",
            "279d6eeb263f4dd3b6289d67afb0b7e2",
            "473471e0cd794da99eb934c245c49ec0",
            "c15f0e4181f64c2c9d28669d046b398e",
            "a0f6bdeff52b489e8ffb97fa1d0eaf7e",
            "33bdf4e064614cc4851f55c110dadfb0",
            "97220b5567b84d288389d3d79c6de994",
            "e8f54421d5414ea9bb5c61bc4558d5e3",
            "a636253c45a9465bb3205b40a3edb93e",
            "fbf50bbf02f64e01a11b086c60aeb83e",
            "27aa8c6b428e4c64ad5e466e3a0e819a",
            "9680f9a68f8c4d75a9e36fed4f546e28",
            "b755e9c1660c41d89c79da1354f20c5f",
            "f8ed239027754671a22fa7b4ca5dec2a",
            "b44af449268e4017852ba1e93b6becca",
            "2dce9dc331eb4a40a5176258ce826741",
            "3e279f40da80483eae7f718f2952fe5e",
            "28f1083c03584b0b899c1c85c0f32b4a",
            "0ccc872646d344fcb8cee841a44ef1f0",
            "17b1094615fb44d3992fd2846a79db49",
            "3cad02c87e59443482d282845c72d2b9",
            "9b684df87d374b14913abff4c694d7cc",
            "7cf939aa99ad4e088f0741c53ce4e5f0",
            "c2b0292d978f48a892682512796e5867",
            "5cfe1127273f42d9a7e0015438ec8f3c",
            "78d07aaaacdb440f848d9db176665bb4",
            "cad67f840d3347c6b8836b7335c95699",
            "a013c6116147496c88bb2467a84611f2",
            "4e6139d5ab8c4684bbee2579797d401f",
            "b1c18e5951954adb921a56b8cdd6fdeb"
          ]
        },
        "id": "18yc-LPbP5wI",
        "outputId": "43838050-d132-4ce5-802a-8a4ed70475c0"
      },
      "execution_count": null,
      "outputs": [
        {
          "output_type": "stream",
          "name": "stdout",
          "text": [
            "Downloading http://yann.lecun.com/exdb/mnist/train-images-idx3-ubyte.gz\n",
            "Downloading http://yann.lecun.com/exdb/mnist/train-images-idx3-ubyte.gz to /content/MNIST/raw/train-images-idx3-ubyte.gz\n"
          ]
        },
        {
          "output_type": "display_data",
          "data": {
            "application/vnd.jupyter.widget-view+json": {
              "model_id": "d3342e10f80c4b328776639f06c70660",
              "version_minor": 0,
              "version_major": 2
            },
            "text/plain": [
              "  0%|          | 0/9912422 [00:00<?, ?it/s]"
            ]
          },
          "metadata": {}
        },
        {
          "output_type": "stream",
          "name": "stdout",
          "text": [
            "Extracting /content/MNIST/raw/train-images-idx3-ubyte.gz to /content/MNIST/raw\n",
            "\n",
            "Downloading http://yann.lecun.com/exdb/mnist/train-labels-idx1-ubyte.gz\n",
            "Downloading http://yann.lecun.com/exdb/mnist/train-labels-idx1-ubyte.gz to /content/MNIST/raw/train-labels-idx1-ubyte.gz\n"
          ]
        },
        {
          "output_type": "display_data",
          "data": {
            "application/vnd.jupyter.widget-view+json": {
              "model_id": "c0e85fcc6f0b4d7eb6f8500dd0d2b92d",
              "version_minor": 0,
              "version_major": 2
            },
            "text/plain": [
              "  0%|          | 0/28881 [00:00<?, ?it/s]"
            ]
          },
          "metadata": {}
        },
        {
          "output_type": "stream",
          "name": "stdout",
          "text": [
            "Extracting /content/MNIST/raw/train-labels-idx1-ubyte.gz to /content/MNIST/raw\n",
            "\n",
            "Downloading http://yann.lecun.com/exdb/mnist/t10k-images-idx3-ubyte.gz\n",
            "Downloading http://yann.lecun.com/exdb/mnist/t10k-images-idx3-ubyte.gz to /content/MNIST/raw/t10k-images-idx3-ubyte.gz\n"
          ]
        },
        {
          "output_type": "display_data",
          "data": {
            "application/vnd.jupyter.widget-view+json": {
              "model_id": "a636253c45a9465bb3205b40a3edb93e",
              "version_minor": 0,
              "version_major": 2
            },
            "text/plain": [
              "  0%|          | 0/1648877 [00:00<?, ?it/s]"
            ]
          },
          "metadata": {}
        },
        {
          "output_type": "stream",
          "name": "stdout",
          "text": [
            "Extracting /content/MNIST/raw/t10k-images-idx3-ubyte.gz to /content/MNIST/raw\n",
            "\n",
            "Downloading http://yann.lecun.com/exdb/mnist/t10k-labels-idx1-ubyte.gz\n",
            "Downloading http://yann.lecun.com/exdb/mnist/t10k-labels-idx1-ubyte.gz to /content/MNIST/raw/t10k-labels-idx1-ubyte.gz\n"
          ]
        },
        {
          "output_type": "display_data",
          "data": {
            "application/vnd.jupyter.widget-view+json": {
              "model_id": "17b1094615fb44d3992fd2846a79db49",
              "version_minor": 0,
              "version_major": 2
            },
            "text/plain": [
              "  0%|          | 0/4542 [00:00<?, ?it/s]"
            ]
          },
          "metadata": {}
        },
        {
          "output_type": "stream",
          "name": "stdout",
          "text": [
            "Extracting /content/MNIST/raw/t10k-labels-idx1-ubyte.gz to /content/MNIST/raw\n",
            "\n"
          ]
        }
      ]
    },
    {
      "cell_type": "code",
      "source": [
        "len(train_dataset)"
      ],
      "metadata": {
        "colab": {
          "base_uri": "https://localhost:8080/"
        },
        "id": "sYts0yMZnZHP",
        "outputId": "d47465bd-4f77-4e0a-9fa8-7b8d5152ecde"
      },
      "execution_count": null,
      "outputs": [
        {
          "output_type": "execute_result",
          "data": {
            "text/plain": [
              "60000"
            ]
          },
          "metadata": {},
          "execution_count": 4
        }
      ]
    },
    {
      "cell_type": "code",
      "source": [
        "test_dataset = MNIST(root = '/content/', train = False)"
      ],
      "metadata": {
        "id": "r7exfw5lnbv3"
      },
      "execution_count": null,
      "outputs": []
    },
    {
      "cell_type": "code",
      "source": [
        "img, label = train_dataset[0]\n",
        "plt.imshow(img, cmap = 'gray')\n",
        "print(label)"
      ],
      "metadata": {
        "colab": {
          "base_uri": "https://localhost:8080/",
          "height": 283
        },
        "id": "y7MA6oXIn8Dz",
        "outputId": "c743ce0d-a2ac-48cb-e6ee-0acc18d1ceba"
      },
      "execution_count": null,
      "outputs": [
        {
          "output_type": "stream",
          "name": "stdout",
          "text": [
            "5\n"
          ]
        },
        {
          "output_type": "display_data",
          "data": {
            "image/png": "[encoded data removed]",
            "text/plain": [
              "<Figure size 432x288 with 1 Axes>"
            ]
          },
          "metadata": {
            "needs_background": "light"
          }
        }
      ]
    },
    {
      "cell_type": "markdown",
      "source": [
        "*transformation*"
      ],
      "metadata": {
        "id": "rFGSygs7paUG"
      }
    },
    {
      "cell_type": "code",
      "source": [
        "train_data = MNIST(root = '/content/',\n",
        "                   train = True,\n",
        "                   transform = transforms.ToTensor())"
      ],
      "metadata": {
        "id": "AEBMTqQcpB4d"
      },
      "execution_count": null,
      "outputs": []
    },
    {
      "cell_type": "code",
      "source": [
        "test_data = MNIST(root = '/content/',\n",
        "                   train = False,\n",
        "                   transform = transforms.ToTensor())"
      ],
      "metadata": {
        "id": "T8bWIU4CpPXU"
      },
      "execution_count": null,
      "outputs": []
    },
    {
      "cell_type": "code",
      "source": [
        "img_tensor, label = train_data[0]"
      ],
      "metadata": {
        "id": "3YckAz7wpfUi"
      },
      "execution_count": null,
      "outputs": []
    },
    {
      "cell_type": "code",
      "source": [
        "type(img_tensor)"
      ],
      "metadata": {
        "colab": {
          "base_uri": "https://localhost:8080/"
        },
        "id": "3hazSsN-tZgR",
        "outputId": "ef1aec4b-4d2b-42fb-9df1-575a8042a202"
      },
      "execution_count": null,
      "outputs": [
        {
          "output_type": "execute_result",
          "data": {
            "text/plain": [
              "torch.Tensor"
            ]
          },
          "metadata": {},
          "execution_count": 10
        }
      ]
    },
    {
      "cell_type": "code",
      "source": [
        "plt.imshow(img_tensor[0, 10:18,10:28], cmap = 'gray')"
      ],
      "metadata": {
        "colab": {
          "base_uri": "https://localhost:8080/",
          "height": 215
        },
        "id": "Asunhokvp80D",
        "outputId": "14de4983-2ad8-423c-b21d-5b8d32fc9786"
      },
      "execution_count": null,
      "outputs": [
        {
          "output_type": "execute_result",
          "data": {
            "text/plain": [
              "<matplotlib.image.AxesImage at 0x7f47f180c710>"
            ]
          },
          "metadata": {},
          "execution_count": 11
        },
        {
          "output_type": "display_data",
          "data": {
            "image/png": "[encoded data removed]",
            "text/plain": [
              "<Figure size 432x288 with 1 Axes>"
            ]
          },
          "metadata": {
            "needs_background": "light"
          }
        }
      ]
    },
    {
      "cell_type": "code",
      "source": [
        "import numpy as np\n",
        "def split_indices(n,val_pct):\n",
        "  n_val = int(n * val_pct)\n",
        "  idxs = np.random.permutation(n)\n",
        "  return idxs[n_val:], idxs[:n_val]"
      ],
      "metadata": {
        "id": "V5HB-V3qrQeW"
      },
      "execution_count": null,
      "outputs": []
    },
    {
      "cell_type": "code",
      "source": [
        "train_indices, val_indices = split_indices(len(train_dataset), val_pct = 0.2)"
      ],
      "metadata": {
        "id": "3PNwCw2_rQWX"
      },
      "execution_count": null,
      "outputs": []
    },
    {
      "cell_type": "code",
      "source": [
        "from torch.utils.data.sampler import SubsetRandomSampler\n",
        "from torch.utils.data.dataloader import DataLoader"
      ],
      "metadata": {
        "id": "PXgrcV2orLdh"
      },
      "execution_count": null,
      "outputs": []
    },
    {
      "cell_type": "code",
      "source": [
        "batch_size = 100\n",
        "\n",
        "train_sampler = SubsetRandomSampler(train_indices)\n",
        "train_loader = DataLoader(train_data, batch_size, sampler = train_sampler)\n",
        "\n",
        "val_sampler = SubsetRandomSampler(val_indices)\n",
        "val_loader = DataLoader(train_data, batch_size, sampler = val_sampler)\n"
      ],
      "metadata": {
        "id": "5J65WlpBrd_n"
      },
      "execution_count": null,
      "outputs": []
    },
    {
      "cell_type": "code",
      "source": [
        "import  torch.nn as nn\n",
        "\n",
        "input_size = 28*28\n",
        "num_classes = 10\n",
        "\n",
        "model = nn.Linear(input_size, num_classes)"
      ],
      "metadata": {
        "id": "39rMnzMbsNCJ"
      },
      "execution_count": null,
      "outputs": []
    },
    {
      "cell_type": "code",
      "source": [
        "for images, labels in train_loader:\n",
        "  print(labels)\n",
        "  print(images)\n",
        "  output = model(images)\n",
        "  break"
      ],
      "metadata": {
        "id": "PmzpYeoOs03f"
      },
      "execution_count": null,
      "outputs": []
    },
    {
      "cell_type": "code",
      "source": [
        "class mnistModel(nn.Module):\n",
        "  def __init__(self):\n",
        "    super().__init__()\n",
        "    self.linear = nn.Linear(input_size, num_classes)\n",
        "\n",
        "  def forward(self, xb):\n",
        "    xb = xb.reshape(-1, 784)\n",
        "    out = self.linear(xb)\n",
        "    return out\n",
        "model = mnistModel()"
      ],
      "metadata": {
        "id": "0Sjt2kAivWvg"
      },
      "execution_count": null,
      "outputs": []
    },
    {
      "cell_type": "code",
      "source": [
        "model.linear.bias \n",
        "model.linear.weight"
      ],
      "metadata": {
        "colab": {
          "base_uri": "https://localhost:8080/"
        },
        "id": "fIZ-OwWswJhq",
        "outputId": "42b8d44c-95f1-4933-867a-0cd839806d6c"
      },
      "execution_count": null,
      "outputs": [
        {
          "output_type": "execute_result",
          "data": {
            "text/plain": [
              "Parameter containing:\n",
              "tensor([[-0.0031,  0.0234, -0.0037,  ..., -0.0351,  0.0217,  0.0205],\n",
              "        [ 0.0307, -0.0088, -0.0133,  ..., -0.0197,  0.0103,  0.0095],\n",
              "        [ 0.0342,  0.0090,  0.0323,  ..., -0.0141, -0.0180, -0.0250],\n",
              "        ...,\n",
              "        [ 0.0152,  0.0152,  0.0065,  ...,  0.0212, -0.0206,  0.0078],\n",
              "        [ 0.0236, -0.0351, -0.0179,  ...,  0.0264, -0.0197, -0.0113],\n",
              "        [ 0.0327, -0.0352,  0.0143,  ..., -0.0332,  0.0152,  0.0338]],\n",
              "       requires_grad=True)"
            ]
          },
          "metadata": {},
          "execution_count": 19
        }
      ]
    },
    {
      "cell_type": "code",
      "source": [
        "for images, labels in train_loader:\n",
        "  outputs = model(images)\n",
        "  break\n",
        "print(outputs.shape)\n",
        "outputs[:2].data "
      ],
      "metadata": {
        "colab": {
          "base_uri": "https://localhost:8080/"
        },
        "id": "9n1iZO3dxiDp",
        "outputId": "11d3b548-2aef-411a-f501-c8153aecdd76"
      },
      "execution_count": null,
      "outputs": [
        {
          "output_type": "stream",
          "name": "stdout",
          "text": [
            "torch.Size([100, 10])\n"
          ]
        },
        {
          "output_type": "execute_result",
          "data": {
            "text/plain": [
              "tensor([[ 0.0408,  0.3293,  0.0510,  0.0703, -0.0215,  0.0168, -0.0418,  0.2313,\n",
              "          0.2350, -0.1168],\n",
              "        [ 0.0723, -0.0294,  0.1402, -0.2665,  0.3851,  0.0611, -0.2986,  0.1312,\n",
              "          0.0209, -0.0717]])"
            ]
          },
          "metadata": {},
          "execution_count": 20
        }
      ]
    },
    {
      "cell_type": "code",
      "source": [
        "import torch.nn.functional as F"
      ],
      "metadata": {
        "id": "NfBy8vJ_yiwR"
      },
      "execution_count": null,
      "outputs": []
    },
    {
      "cell_type": "code",
      "source": [
        "probs = F.softmax(outputs, dim = 1) \n",
        "# converts outputs to probablities\n",
        "print(probs[0])"
      ],
      "metadata": {
        "colab": {
          "base_uri": "https://localhost:8080/"
        },
        "id": "rrXqHlHNyo7l",
        "outputId": "de18a5f3-cf16-4f78-8db7-46773da09fb5"
      },
      "execution_count": null,
      "outputs": [
        {
          "output_type": "stream",
          "name": "stdout",
          "text": [
            "tensor([0.0953, 0.1272, 0.0963, 0.0982, 0.0896, 0.0931, 0.0878, 0.1153, 0.1158,\n",
            "        0.0814], grad_fn=<SelectBackward0>)\n"
          ]
        }
      ]
    },
    {
      "cell_type": "code",
      "source": [
        "max_probs, preds = torch.max(probs, dim = 1)\n",
        "# get maximum probablity and its index from every prediction output\n",
        "preds"
      ],
      "metadata": {
        "colab": {
          "base_uri": "https://localhost:8080/"
        },
        "id": "KxHoOyH9zFAF",
        "outputId": "b99b6a5e-a212-4748-e580-3864fa39611f"
      },
      "execution_count": null,
      "outputs": [
        {
          "output_type": "execute_result",
          "data": {
            "text/plain": [
              "tensor([1, 4, 2, 8, 2, 8, 2, 2, 2, 3, 2, 2, 8, 7, 5, 2, 2, 8, 5, 8, 1, 2, 1, 4,\n",
              "        4, 4, 8, 8, 4, 2, 4, 2, 2, 8, 8, 2, 8, 4, 2, 0, 5, 4, 3, 4, 2, 2, 8, 7,\n",
              "        5, 8, 2, 4, 8, 4, 8, 2, 4, 2, 2, 2, 4, 8, 4, 8, 4, 0, 7, 4, 4, 0, 4, 8,\n",
              "        8, 7, 3, 2, 8, 5, 0, 8, 2, 4, 2, 5, 2, 0, 3, 7, 2, 8, 8, 8, 8, 8, 2, 5,\n",
              "        5, 4, 4, 2])"
            ]
          },
          "metadata": {},
          "execution_count": 23
        }
      ]
    },
    {
      "cell_type": "code",
      "source": [
        "labels\n",
        "#ground Truth"
      ],
      "metadata": {
        "colab": {
          "base_uri": "https://localhost:8080/"
        },
        "id": "VXMQi0DnzRMb",
        "outputId": "6be3b5f2-8f8d-46ba-f66b-09e67649f6ac"
      },
      "execution_count": null,
      "outputs": [
        {
          "output_type": "execute_result",
          "data": {
            "text/plain": [
              "tensor([4, 1, 3, 3, 1, 7, 2, 0, 5, 1, 1, 1, 5, 0, 6, 8, 6, 9, 5, 3, 6, 8, 4, 1,\n",
              "        3, 9, 9, 8, 7, 9, 1, 1, 5, 7, 3, 5, 3, 4, 2, 3, 8, 9, 1, 5, 8, 3, 0, 6,\n",
              "        2, 7, 0, 4, 7, 7, 8, 1, 3, 7, 0, 5, 4, 8, 9, 7, 4, 5, 1, 4, 3, 6, 9, 8,\n",
              "        8, 0, 1, 5, 7, 2, 1, 7, 1, 8, 0, 2, 2, 5, 5, 6, 0, 7, 9, 8, 2, 9, 0, 7,\n",
              "        3, 4, 7, 5])"
            ]
          },
          "metadata": {},
          "execution_count": 24
        }
      ]
    },
    {
      "cell_type": "markdown",
      "source": [
        "*Evaluation metric*"
      ],
      "metadata": {
        "id": "Ls7MszmKkW2u"
      }
    },
    {
      "cell_type": "code",
      "source": [
        "def acc(l1, l2):\n",
        "  return torch.sum(l1 == l2).item() / l1.numel()"
      ],
      "metadata": {
        "id": "If0gH7w8kWBs"
      },
      "execution_count": null,
      "outputs": []
    },
    {
      "cell_type": "code",
      "source": [
        "acc(preds, labels)"
      ],
      "metadata": {
        "colab": {
          "base_uri": "https://localhost:8080/"
        },
        "id": "fqpxuBaKkqjy",
        "outputId": "3581177f-23bd-4f90-a8f0-707c3b1bbde4"
      },
      "execution_count": null,
      "outputs": [
        {
          "output_type": "execute_result",
          "data": {
            "text/plain": [
              "0.16"
            ]
          },
          "metadata": {},
          "execution_count": 26
        }
      ]
    },
    {
      "cell_type": "code",
      "source": [
        "lr = 0.001\n",
        "opt = torch.optim.ASGD(model.parameters(), lr = lr)\n",
        "loss_fn = F.cross_entropy\n",
        "#Does softmax internally so can directly give output of last layer\n",
        "\n",
        "loss_fn(outputs, labels)"
      ],
      "metadata": {
        "colab": {
          "base_uri": "https://localhost:8080/"
        },
        "id": "Rx3Hv3IDwZvS",
        "outputId": "78255379-1d1e-4ff5-80e9-8d86cd6f9768"
      },
      "execution_count": null,
      "outputs": [
        {
          "output_type": "execute_result",
          "data": {
            "text/plain": [
              "tensor(2.3081, grad_fn=<NllLossBackward0>)"
            ]
          },
          "metadata": {},
          "execution_count": 27
        }
      ]
    },
    {
      "cell_type": "code",
      "source": [
        "def loss_batch(model, loss_func, xb, yb, opt = None, metric = None):\n",
        "  preds = model(xb)\n",
        "  loss = loss_func(preds, yb)\n",
        "\n",
        "  if opt is not None:\n",
        "    loss.backward()\n",
        "    opt.step()\n",
        "    opt.zero_grad()\n",
        "\n",
        "  metric_result = None\n",
        "  if metric is not None:\n",
        "    metric_result = metric(preds, yb)\n",
        "\n",
        "  return loss.item(), len(xb), metric_result"
      ],
      "metadata": {
        "id": "Z-SJotgCxe--"
      },
      "execution_count": null,
      "outputs": []
    },
    {
      "cell_type": "code",
      "source": [
        "def evaluate(model, loss_fn, valid_dl, metric = None):\n",
        "  with torch.no_grad():\n",
        "    results = [loss_batch(model, loss_fn, xb, yb, metric = metric) for xb,yb in valid_dl]\n",
        "\n",
        "    losses, nums, metirc_result = zip(*results)\n",
        "\n",
        "    total = np.sum(nums)\n",
        "\n",
        "    avg_loss = np.sum(np.multiply(losses, nums)) / total\n",
        "\n",
        "    avg_metric = None\n",
        "    if metric is not None:\n",
        "      avg_metric = np.sum(np.multiply(metirc_result, nums)) / total\n",
        "\n",
        "    return avg_loss, total, avg_metric"
      ],
      "metadata": {
        "id": "jPWNJ3j2x9Lj"
      },
      "execution_count": null,
      "outputs": []
    },
    {
      "cell_type": "code",
      "source": [
        "def acc(l1, l2):\n",
        "  _, preds = torch.max(l1, dim = 1)\n",
        "  return torch.sum(preds == l2).item() / preds.numel()"
      ],
      "metadata": {
        "id": "KdOcUO_i0eKN"
      },
      "execution_count": null,
      "outputs": []
    },
    {
      "cell_type": "code",
      "source": [
        "evaluate(model, loss_fn, val_loader, metric = acc)"
      ],
      "metadata": {
        "colab": {
          "base_uri": "https://localhost:8080/"
        },
        "id": "J53bTa3G0-TN",
        "outputId": "3b0825b3-b0fc-45f3-824a-d0e3a3f080a2"
      },
      "execution_count": null,
      "outputs": [
        {
          "output_type": "execute_result",
          "data": {
            "text/plain": [
              "(2.329698973894119, 12000, 0.11066666666666666)"
            ]
          },
          "metadata": {},
          "execution_count": 31
        }
      ]
    },
    {
      "cell_type": "code",
      "source": [
        "def fit(epochs, model, loss_fn, opt, train_dl, val_dl, metric = None):\n",
        "\n",
        "  for epoch in range(epochs):\n",
        "    for xb, yb, in train_dl:\n",
        "      loss,_ ,_ = loss_batch(model, loss_fn, xb,yb, opt)\n",
        "\n",
        "    val_loss, total, metric_result  = evaluate(model, loss_fn, val_dl, metric)\n",
        "\n",
        "    if metric is not None:\n",
        "      print(epoch, ' : ', val_loss, metric_result)\n"
      ],
      "metadata": {
        "id": "L3ouXCGS4Mxb"
      },
      "execution_count": null,
      "outputs": []
    },
    {
      "cell_type": "code",
      "source": [
        "model = mnistModel()\n",
        "optimizer = torch.optim.SGD(model.parameters(), lr = 0.0001)"
      ],
      "metadata": {
        "id": "NIDcxvQX5AXQ"
      },
      "execution_count": null,
      "outputs": []
    },
    {
      "cell_type": "code",
      "source": [
        "fit(5, model, F.cross_entropy, optimizer, train_loader, val_loader, acc)"
      ],
      "metadata": {
        "colab": {
          "base_uri": "https://localhost:8080/"
        },
        "id": "pKLxsClF5OiW",
        "outputId": "42fac8ea-60f0-41dc-dd33-367ec0d6fb6f"
      },
      "execution_count": null,
      "outputs": [
        {
          "output_type": "stream",
          "name": "stdout",
          "text": [
            "0  :  2.2831616342067718 0.10225\n",
            "1  :  2.2319568753242494 0.16933333333333334\n",
            "2  :  2.1833391229311627 0.278\n",
            "3  :  2.136960345506668 0.37525\n",
            "4  :  2.0925724764664966 0.451\n"
          ]
        }
      ]
    },
    {
      "cell_type": "code",
      "source": [
        "torch.save(model.state_dict(), '/content/mnist.pth')"
      ],
      "metadata": {
        "id": "vHNrtVeYA4L8"
      },
      "execution_count": null,
      "outputs": []
    },
    {
      "cell_type": "code",
      "source": [
        "model.state_dict()"
      ],
      "metadata": {
        "colab": {
          "base_uri": "https://localhost:8080/"
        },
        "id": "qI9cemr1USpK",
        "outputId": "7dd604ff-dc2a-49da-b8fc-9b2a5ab0b52b"
      },
      "execution_count": null,
      "outputs": [
        {
          "output_type": "execute_result",
          "data": {
            "text/plain": [
              "OrderedDict([('linear.weight',\n",
              "              tensor([[-0.0279, -0.0170,  0.0096,  ..., -0.0024, -0.0098,  0.0245],\n",
              "                      [ 0.0007, -0.0128, -0.0210,  ..., -0.0041,  0.0012, -0.0333],\n",
              "                      [-0.0185,  0.0005, -0.0069,  ..., -0.0256,  0.0045,  0.0176],\n",
              "                      ...,\n",
              "                      [-0.0219, -0.0073,  0.0260,  ..., -0.0303,  0.0031, -0.0205],\n",
              "                      [-0.0151,  0.0014, -0.0067,  ...,  0.0159, -0.0057, -0.0022],\n",
              "                      [-0.0077,  0.0165,  0.0106,  ..., -0.0177,  0.0346, -0.0207]])),\n",
              "             ('linear.bias',\n",
              "              tensor([-0.0271, -0.0307, -0.0054,  0.0131, -0.0005, -0.0250,  0.0257,  0.0238,\n",
              "                       0.0212,  0.0181]))])"
            ]
          },
          "metadata": {},
          "execution_count": 39
        }
      ]
    },
    {
      "cell_type": "code",
      "source": [
        "model2 = mnistModel()\n",
        "model2.load_state_dict(torch.load('/content/mnist.pth'))\n"
      ],
      "metadata": {
        "colab": {
          "base_uri": "https://localhost:8080/"
        },
        "id": "6PK5KpvWUV6k",
        "outputId": "5d749ff8-4fcc-42ca-c39c-51d1ee8be668"
      },
      "execution_count": null,
      "outputs": [
        {
          "output_type": "execute_result",
          "data": {
            "text/plain": [
              "<All keys matched successfully>"
            ]
          },
          "metadata": {},
          "execution_count": 40
        }
      ]
    },
    {
      "cell_type": "code",
      "source": [
        "evaluate(model2, loss_fn, val_loader, metric= acc)"
      ],
      "metadata": {
        "colab": {
          "base_uri": "https://localhost:8080/"
        },
        "id": "DEH9pOWjUt07",
        "outputId": "80750532-f34d-4811-b5eb-824ad827fab1"
      },
      "execution_count": null,
      "outputs": [
        {
          "output_type": "execute_result",
          "data": {
            "text/plain": [
              "(2.0925724665323893, 12000, 0.451)"
            ]
          },
          "metadata": {},
          "execution_count": 42
        }
      ]
    }
  ]
}