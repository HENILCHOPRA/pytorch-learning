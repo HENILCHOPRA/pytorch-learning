{
  "nbformat": 4,
  "nbformat_minor": 0,
  "metadata": {
    "colab": {
      "name": "pytorch 101.ipynb",
      "provenance": [],
      "authorship_tag": "ABX9TyOPiUZIs2v/sIBpEDxkCrK5",
      "include_colab_link": true
    },
    "kernelspec": {
      "name": "python3",
      "display_name": "Python 3"
    },
    "language_info": {
      "name": "python"
    }
  },
  "cells": [
    {
      "cell_type": "markdown",
      "metadata": {
        "id": "view-in-github",
        "colab_type": "text"
      },
      "source": [
        "<a href=\"https://colab.research.google.com/github/HENILCHOPRA/pytorch-learning/blob/main/pytorch_101.ipynb\" target=\"_parent\"><img src=\"https://colab.research.google.com/assets/colab-badge.svg\" alt=\"Open In Colab\"/></a>"
      ]
    },
    {
      "cell_type": "code",
      "execution_count": null,
      "metadata": {
        "id": "Pn6jN6WFoT-m"
      },
      "outputs": [],
      "source": [
        "import torch\n",
        "import numpy as np\n",
        "import pandas as pd"
      ]
    },
    {
      "cell_type": "code",
      "source": [
        "x = torch.tensor(3., requires_grad= True)\n",
        "x"
      ],
      "metadata": {
        "colab": {
          "base_uri": "https://localhost:8080/"
        },
        "id": "OT7aLhwpoYos",
        "outputId": "401ba71e-971c-4c68-8fbf-5c4d98c57798"
      },
      "execution_count": null,
      "outputs": [
        {
          "output_type": "execute_result",
          "data": {
            "text/plain": [
              "tensor(3., requires_grad=True)"
            ]
          },
          "metadata": {},
          "execution_count": 2
        }
      ]
    },
    {
      "cell_type": "code",
      "source": [
        "y = torch.tensor(2., requires_grad= True)\n",
        "y"
      ],
      "metadata": {
        "colab": {
          "base_uri": "https://localhost:8080/"
        },
        "id": "x2L-eXZAoj8G",
        "outputId": "cf51a3eb-d44d-4c8f-d9c2-cf3fcc371451"
      },
      "execution_count": null,
      "outputs": [
        {
          "output_type": "execute_result",
          "data": {
            "text/plain": [
              "tensor(2., requires_grad=True)"
            ]
          },
          "metadata": {},
          "execution_count": 3
        }
      ]
    },
    {
      "cell_type": "code",
      "source": [
        "y.grad"
      ],
      "metadata": {
        "id": "9swrJrEdolBS"
      },
      "execution_count": null,
      "outputs": []
    },
    {
      "cell_type": "code",
      "source": [
        "w = x * y + y\n",
        "x.grad"
      ],
      "metadata": {
        "id": "rUwLA0Tbpf2t"
      },
      "execution_count": null,
      "outputs": []
    },
    {
      "cell_type": "code",
      "source": [
        "arr = np.array([[1,2],[3,4.]])"
      ],
      "metadata": {
        "id": "WX3H9HugpjLF"
      },
      "execution_count": null,
      "outputs": []
    },
    {
      "cell_type": "code",
      "source": [
        "z = torch.from_numpy(arr)"
      ],
      "metadata": {
        "id": "71cUDUeQq4Au"
      },
      "execution_count": null,
      "outputs": []
    },
    {
      "cell_type": "markdown",
      "source": [
        "<h2>Regression model</h2>"
      ],
      "metadata": {
        "id": "pQ9hWjnBn8VZ"
      }
    },
    {
      "cell_type": "code",
      "source": [
        "inputs = np.array(\n",
        "    [[73,67,43],\n",
        "     [91,88,64],\n",
        "     [87,134,58],\n",
        "     [102,43,37],\n",
        "     [69,96,70]], dtype = 'float32'\n",
        ")\n",
        "inputs = torch.from_numpy(inputs)"
      ],
      "metadata": {
        "id": "ETeut6WRmQhM"
      },
      "execution_count": null,
      "outputs": []
    },
    {
      "cell_type": "code",
      "source": [
        "targets = np.array(\n",
        "    [[56,70],\n",
        "     [81,101],\n",
        "     [119,133],\n",
        "     [22,37],\n",
        "     [103,119]], dtype = 'float32'\n",
        ")\n",
        "targets = torch.from_numpy(targets)"
      ],
      "metadata": {
        "id": "GcZUKaItmnG_"
      },
      "execution_count": null,
      "outputs": []
    },
    {
      "cell_type": "code",
      "source": [
        "w = torch.randn(2,3, requires_grad= True)\n",
        "b = torch.randn(2, requires_grad = True)\n",
        "\n",
        "print(w)\n",
        "print(b)"
      ],
      "metadata": {
        "colab": {
          "base_uri": "https://localhost:8080/"
        },
        "id": "PXbB23xTk1II",
        "outputId": "89fb5e90-641f-4f1c-a70b-b9575916c8c4"
      },
      "execution_count": null,
      "outputs": [
        {
          "output_type": "stream",
          "name": "stdout",
          "text": [
            "tensor([[ 1.7645,  0.7065,  0.2973],\n",
            "        [-0.4572, -1.3117,  0.4612]], requires_grad=True)\n",
            "tensor([1.1350, 0.2044], requires_grad=True)\n"
          ]
        }
      ]
    },
    {
      "cell_type": "markdown",
      "source": [
        "\"@\" represents matrix *multiplications*"
      ],
      "metadata": {
        "id": "Q9YlAF11mEl9"
      }
    },
    {
      "cell_type": "code",
      "source": [
        "def model(x):\n",
        "  return x @ w.t() + b"
      ],
      "metadata": {
        "id": "kRC2xHiPmDsh"
      },
      "execution_count": null,
      "outputs": []
    },
    {
      "cell_type": "code",
      "source": [
        "predicts = model(inputs)\n",
        "print(predicts)"
      ],
      "metadata": {
        "colab": {
          "base_uri": "https://localhost:8080/"
        },
        "id": "7UjcaxIanaE3",
        "outputId": "320015e4-845a-48bb-e611-4c62a97216c2"
      },
      "execution_count": null,
      "outputs": [
        {
          "output_type": "stream",
          "name": "stdout",
          "text": [
            "tensor([[ 190.0653, -101.2284],\n",
            "        [ 242.9068, -127.3198],\n",
            "        [ 266.5655, -188.5982],\n",
            "        [ 222.4955,  -85.7734],\n",
            "        [ 211.5238, -124.9875]], grad_fn=<AddBackward0>)\n"
          ]
        }
      ]
    },
    {
      "cell_type": "markdown",
      "source": [
        "<h2> Loss function </h2>"
      ],
      "metadata": {
        "id": "P7aPbsztobIj"
      }
    },
    {
      "cell_type": "code",
      "source": [
        "targets - predicts"
      ],
      "metadata": {
        "colab": {
          "base_uri": "https://localhost:8080/"
        },
        "id": "hOtbXa22oaaD",
        "outputId": "d4284c63-ec9b-4957-b5cd-4c054fb6bc0d"
      },
      "execution_count": null,
      "outputs": [
        {
          "output_type": "execute_result",
          "data": {
            "text/plain": [
              "tensor([[-134.0653,  171.2284],\n",
              "        [-161.9068,  228.3198],\n",
              "        [-147.5655,  321.5982],\n",
              "        [-200.4955,  122.7734],\n",
              "        [-108.5238,  243.9875]], grad_fn=<SubBackward0>)"
            ]
          },
          "metadata": {},
          "execution_count": 13
        }
      ]
    },
    {
      "cell_type": "markdown",
      "source": [
        "*tensor.numel() number of elements in the tensor*"
      ],
      "metadata": {
        "id": "GXFSv4PDo8MZ"
      }
    },
    {
      "cell_type": "code",
      "source": [
        "def mse(t1, t2):\n",
        "  diff = t1 - t2\n",
        "  return torch.sum(diff ** 2) / diff.numel() "
      ],
      "metadata": {
        "id": "Kgfc0wYjoL9f"
      },
      "execution_count": null,
      "outputs": []
    },
    {
      "cell_type": "code",
      "source": [
        "loss = mse(targets, predicts)\n",
        "print(loss)"
      ],
      "metadata": {
        "colab": {
          "base_uri": "https://localhost:8080/"
        },
        "id": "l6r3DxIGoyR0",
        "outputId": "1bb67e5a-b14f-404b-a33f-5729213cff62"
      },
      "execution_count": null,
      "outputs": [
        {
          "output_type": "stream",
          "name": "stdout",
          "text": [
            "tensor(37741.6484, grad_fn=<DivBackward0>)\n"
          ]
        }
      ]
    },
    {
      "cell_type": "markdown",
      "source": [
        "<h2>Gradients</h2>\n"
      ],
      "metadata": {
        "id": "Km1ajxVcpJst"
      }
    },
    {
      "cell_type": "markdown",
      "source": [
        " **.*backward()***  computes gradients for tensors with ***requires_grad = True***"
      ],
      "metadata": {
        "id": "Dj3V1ND3qIaE"
      }
    },
    {
      "cell_type": "code",
      "source": [
        "loss.backward() "
      ],
      "metadata": {
        "id": "N9tcSqAepJTg"
      },
      "execution_count": null,
      "outputs": []
    },
    {
      "cell_type": "code",
      "source": [
        "print(w.grad)\n",
        "print(b.grad)"
      ],
      "metadata": {
        "colab": {
          "base_uri": "https://localhost:8080/"
        },
        "id": "NcAZXxw9qFD9",
        "outputId": "50b1a6ce-d0ce-4b81-a6f9-d4570339a32e"
      },
      "execution_count": null,
      "outputs": [
        {
          "output_type": "stream",
          "name": "stdout",
          "text": [
            "tensor([[ 13059.4346,  12408.7080,   7940.1284],\n",
            "        [-18122.7695, -20672.1328, -12449.9453]])\n",
            "tensor([ 150.5114, -217.5815])\n"
          ]
        }
      ]
    },
    {
      "cell_type": "code",
      "source": [
        "w.grad.zero_()\n",
        "b.grad.zero_()"
      ],
      "metadata": {
        "id": "BuwHPO-HrC77",
        "colab": {
          "base_uri": "https://localhost:8080/"
        },
        "outputId": "2fc391f4-5238-4040-c344-81347e171b42"
      },
      "execution_count": null,
      "outputs": [
        {
          "output_type": "execute_result",
          "data": {
            "text/plain": [
              "tensor([0., 0.])"
            ]
          },
          "metadata": {},
          "execution_count": 18
        }
      ]
    },
    {
      "cell_type": "markdown",
      "source": [
        "<h2>Binding it all</h2>"
      ],
      "metadata": {
        "id": "CO8PlvM98C2D"
      }
    },
    {
      "cell_type": "code",
      "source": [
        ""
      ],
      "metadata": {
        "id": "n0OZITv98Ko6"
      },
      "execution_count": null,
      "outputs": []
    },
    {
      "cell_type": "code",
      "source": [
        "print(w)\n",
        "print(b)"
      ],
      "metadata": {
        "colab": {
          "base_uri": "https://localhost:8080/"
        },
        "id": "GLks7Tf-8yx9",
        "outputId": "8bd5b19b-e0b6-4326-89e1-32416a6682bb"
      },
      "execution_count": null,
      "outputs": [
        {
          "output_type": "stream",
          "name": "stdout",
          "text": [
            "tensor([[ 1.6339,  0.5824,  0.2179],\n",
            "        [-0.2760, -1.1050,  0.5857]], requires_grad=True)\n",
            "tensor([1.1335, 0.2066], requires_grad=True)\n"
          ]
        }
      ]
    },
    {
      "cell_type": "code",
      "source": [
        "for i in range(100):\n",
        "  preds = model(inputs)\n",
        "  loss = mse(preds, targets)\n",
        "  loss.backward() \n",
        "  with torch.no_grad():\n",
        "    w -= w.grad * 1e-5\n",
        "    b -= b.grad * 1e-5\n",
        "    w.grad.zero_()\n",
        "    b.grad.zero_()\n",
        "\n",
        "print(loss) \n"
      ],
      "metadata": {
        "colab": {
          "base_uri": "https://localhost:8080/"
        },
        "id": "frr-jtcG9G0i",
        "outputId": "b28f0e43-0be3-40a7-a380-5defccff90d3"
      },
      "execution_count": null,
      "outputs": [
        {
          "output_type": "stream",
          "name": "stdout",
          "text": [
            "tensor(3.0098, grad_fn=<DivBackward0>)\n"
          ]
        }
      ]
    },
    {
      "cell_type": "markdown",
      "source": [
        "***USING PYTORCH***"
      ],
      "metadata": {
        "id": "XIQxX362AJV6"
      }
    },
    {
      "cell_type": "code",
      "source": [
        "import torch.nn as nn\n",
        "inputs = np.array(\n",
        "    [[73,67,43],\n",
        "     [91,88,64],\n",
        "     [87,134,58],\n",
        "     [102,43,37],\n",
        "     [69,96,70],\n",
        "     [73,67,43],\n",
        "     [91,88,64],\n",
        "     [87,134,58],\n",
        "     [102,43,37],\n",
        "     [69,96,70],\n",
        "     [73,67,43],\n",
        "     [91,88,64],\n",
        "     [87,134,58],\n",
        "     [102,43,37],\n",
        "     [69,96,70]], dtype = 'float32'\n",
        ")\n",
        "targets = np.array(\n",
        "    [[56,70],\n",
        "     [81,101],\n",
        "     [119,133],\n",
        "     [22,37],\n",
        "     [103,119],\n",
        "     [56,70],\n",
        "     [81,101],\n",
        "     [119,133],\n",
        "     [22,37],\n",
        "     [103,119],\n",
        "     [56,70],\n",
        "     [81,101],\n",
        "     [119,133],\n",
        "     [22,37],\n",
        "     [103,119]], dtype = 'float32'\n",
        ")\n",
        "inputs = torch.from_numpy(inputs)\n",
        "targets = torch.from_numpy(targets)"
      ],
      "metadata": {
        "id": "u3WStn9vAIU-"
      },
      "execution_count": null,
      "outputs": []
    },
    {
      "cell_type": "code",
      "source": [
        "from torch.utils.data import TensorDataset\n",
        "from torch.utils.data import DataLoader\n",
        "import torch.nn.functional as F\n"
      ],
      "metadata": {
        "id": "tHv0696ZE3nb"
      },
      "execution_count": null,
      "outputs": []
    },
    {
      "cell_type": "code",
      "source": [
        "trainds = TensorDataset(inputs, targets)\n",
        "trainds[:2]"
      ],
      "metadata": {
        "colab": {
          "base_uri": "https://localhost:8080/"
        },
        "id": "Wmbp3ksBE3d6",
        "outputId": "6c4a7a9b-b154-45d4-a9d4-7c2994897636"
      },
      "execution_count": null,
      "outputs": [
        {
          "output_type": "execute_result",
          "data": {
            "text/plain": [
              "(tensor([[73., 67., 43.],\n",
              "         [91., 88., 64.]]), tensor([[ 56.,  70.],\n",
              "         [ 81., 101.]]))"
            ]
          },
          "metadata": {},
          "execution_count": 64
        }
      ]
    },
    {
      "cell_type": "code",
      "source": [
        "batch_size = 5\n",
        "traindl = DataLoader(trainds, batch_size, shuffle = True)"
      ],
      "metadata": {
        "id": "0lXbl2q0F0WC"
      },
      "execution_count": null,
      "outputs": []
    },
    {
      "cell_type": "code",
      "source": [
        "for xb, yb in traindl:\n",
        "  print(xb,yb)\n",
        "  break"
      ],
      "metadata": {
        "colab": {
          "base_uri": "https://localhost:8080/"
        },
        "id": "0ulTqePUGY9a",
        "outputId": "3aab2a8f-93b9-40c2-e530-c5026974ec7e"
      },
      "execution_count": null,
      "outputs": [
        {
          "output_type": "stream",
          "name": "stdout",
          "text": [
            "tensor([[ 69.,  96.,  70.],\n",
            "        [ 87., 134.,  58.],\n",
            "        [102.,  43.,  37.],\n",
            "        [ 91.,  88.,  64.],\n",
            "        [ 91.,  88.,  64.]]) tensor([[103., 119.],\n",
            "        [119., 133.],\n",
            "        [ 22.,  37.],\n",
            "        [ 81., 101.],\n",
            "        [ 81., 101.]])\n"
          ]
        }
      ]
    },
    {
      "cell_type": "code",
      "source": [
        "model = nn.Linear(3,2) # 3 is size of input and 2 is size of output\n",
        "\n",
        "print(model.weight)\n",
        "print(model.bias)\n"
      ],
      "metadata": {
        "colab": {
          "base_uri": "https://localhost:8080/"
        },
        "id": "gHQmAxrfGlid",
        "outputId": "dc7a10f4-8f58-4f5a-9e5f-e7999b67b846"
      },
      "execution_count": null,
      "outputs": [
        {
          "output_type": "stream",
          "name": "stdout",
          "text": [
            "Parameter containing:\n",
            "tensor([[ 0.5046, -0.5365, -0.4938],\n",
            "        [ 0.0522,  0.2542, -0.0322]], requires_grad=True)\n",
            "Parameter containing:\n",
            "tensor([ 0.0372, -0.5246], requires_grad=True)\n"
          ]
        }
      ]
    },
    {
      "cell_type": "code",
      "source": [
        "list(model.parameters()) \n",
        "# give out all the parameters of the model\n",
        "# Here it is weights and bias \n"
      ],
      "metadata": {
        "colab": {
          "base_uri": "https://localhost:8080/"
        },
        "id": "9jUDPrYGHFmS",
        "outputId": "6e498a21-cb6f-45ed-e4bd-ffe4cf85eda0"
      },
      "execution_count": null,
      "outputs": [
        {
          "output_type": "execute_result",
          "data": {
            "text/plain": [
              "[Parameter containing:\n",
              " tensor([[ 0.5046, -0.5365, -0.4938],\n",
              "         [ 0.0522,  0.2542, -0.0322]], requires_grad=True),\n",
              " Parameter containing:\n",
              " tensor([ 0.0372, -0.5246], requires_grad=True)]"
            ]
          },
          "metadata": {},
          "execution_count": 79
        }
      ]
    },
    {
      "cell_type": "code",
      "source": [
        ""
      ],
      "metadata": {
        "id": "yDaJomwJH6CY"
      },
      "execution_count": null,
      "outputs": []
    },
    {
      "cell_type": "code",
      "source": [
        "def fit(model, epochs, loss_fn, opt):\n",
        "  for epoch in range(epochs):\n",
        "    for xb,yb in traindl:\n",
        "      pred = model(xb)\n",
        "      \n",
        "      loss = loss_fn(pred, yb)\n",
        "\n",
        "      loss.backward()\n",
        "\n",
        "      opt.step()\n",
        "      \n",
        "      opt.zero_grad()\n",
        "\n",
        "    # if epoch%10 ==0 :\n",
        "    print(epoch,': ', loss.item())"
      ],
      "metadata": {
        "id": "eGnEGuDgIh08"
      },
      "execution_count": null,
      "outputs": []
    },
    {
      "cell_type": "code",
      "source": [
        "model = nn.Linear(3,2)\n",
        "loss_fn = F.mse_loss\n",
        "opt = torch.optim.SGD(model.parameters(), lr = 1e-5)\n",
        "fit(model, 100, loss_fn, opt)"
      ],
      "metadata": {
        "colab": {
          "base_uri": "https://localhost:8080/"
        },
        "id": "-bZACd7mJI-5",
        "outputId": "c53f37aa-6fb2-4cfe-dd74-0847eb775f99"
      },
      "execution_count": null,
      "outputs": [
        {
          "output_type": "stream",
          "name": "stdout",
          "text": [
            "0 :  6108.3251953125\n",
            "10 :  202.900146484375\n",
            "20 :  153.0011444091797\n",
            "30 :  107.14607238769531\n",
            "40 :  84.56195831298828\n",
            "50 :  44.398963928222656\n",
            "60 :  28.98651695251465\n",
            "70 :  24.339397430419922\n",
            "80 :  37.756431579589844\n",
            "90 :  9.665559768676758\n"
          ]
        }
      ]
    },
    {
      "cell_type": "code",
      "source": [
        "column_names = ['CRIM', 'ZN', 'INDUS', 'CHAS', 'NOX', 'RM', 'AGE', 'DIS', 'RAD', 'TAX', 'PTRATIO', 'B', 'LSTAT', 'MEDV']\n",
        "df = pd.read_csv(\"/content/housing.csv\", header=None, delimiter=r\"\\s+\",  names = column_names)\n",
        "df.head()"
      ],
      "metadata": {
        "colab": {
          "base_uri": "https://localhost:8080/",
          "height": 270
        },
        "id": "VdIYKqGiOEZW",
        "outputId": "990617d7-8f46-4657-b37c-0a6f3a449a0b"
      },
      "execution_count": null,
      "outputs": [
        {
          "output_type": "execute_result",
          "data": {
            "text/html": [
              "\n",
              "  <div id=\"df-542905bf-f6fa-4c4a-bb77-fdd38de7c6d4\">\n",
              "    <div class=\"colab-df-container\">\n",
              "      <div>\n",
              "<style scoped>\n",
              "    .dataframe tbody tr th:only-of-type {\n",
              "        vertical-align: middle;\n",
              "    }\n",
              "\n",
              "    .dataframe tbody tr th {\n",
              "        vertical-align: top;\n",
              "    }\n",
              "\n",
              "    .dataframe thead th {\n",
              "        text-align: right;\n",
              "    }\n",
              "</style>\n",
              "<table border=\"1\" class=\"dataframe\">\n",
              "  <thead>\n",
              "    <tr style=\"text-align: right;\">\n",
              "      <th></th>\n",
              "      <th>CRIM</th>\n",
              "      <th>ZN</th>\n",
              "      <th>INDUS</th>\n",
              "      <th>CHAS</th>\n",
              "      <th>NOX</th>\n",
              "      <th>RM</th>\n",
              "      <th>AGE</th>\n",
              "      <th>DIS</th>\n",
              "      <th>RAD</th>\n",
              "      <th>TAX</th>\n",
              "      <th>PTRATIO</th>\n",
              "      <th>B</th>\n",
              "      <th>LSTAT</th>\n",
              "      <th>MEDV</th>\n",
              "    </tr>\n",
              "  </thead>\n",
              "  <tbody>\n",
              "    <tr>\n",
              "      <th>0</th>\n",
              "      <td>0.00632</td>\n",
              "      <td>18.0</td>\n",
              "      <td>2.31</td>\n",
              "      <td>0</td>\n",
              "      <td>0.538</td>\n",
              "      <td>6.575</td>\n",
              "      <td>65.2</td>\n",
              "      <td>4.0900</td>\n",
              "      <td>1</td>\n",
              "      <td>296.0</td>\n",
              "      <td>15.3</td>\n",
              "      <td>396.90</td>\n",
              "      <td>4.98</td>\n",
              "      <td>24.0</td>\n",
              "    </tr>\n",
              "    <tr>\n",
              "      <th>1</th>\n",
              "      <td>0.02731</td>\n",
              "      <td>0.0</td>\n",
              "      <td>7.07</td>\n",
              "      <td>0</td>\n",
              "      <td>0.469</td>\n",
              "      <td>6.421</td>\n",
              "      <td>78.9</td>\n",
              "      <td>4.9671</td>\n",
              "      <td>2</td>\n",
              "      <td>242.0</td>\n",
              "      <td>17.8</td>\n",
              "      <td>396.90</td>\n",
              "      <td>9.14</td>\n",
              "      <td>21.6</td>\n",
              "    </tr>\n",
              "    <tr>\n",
              "      <th>2</th>\n",
              "      <td>0.02729</td>\n",
              "      <td>0.0</td>\n",
              "      <td>7.07</td>\n",
              "      <td>0</td>\n",
              "      <td>0.469</td>\n",
              "      <td>7.185</td>\n",
              "      <td>61.1</td>\n",
              "      <td>4.9671</td>\n",
              "      <td>2</td>\n",
              "      <td>242.0</td>\n",
              "      <td>17.8</td>\n",
              "      <td>392.83</td>\n",
              "      <td>4.03</td>\n",
              "      <td>34.7</td>\n",
              "    </tr>\n",
              "    <tr>\n",
              "      <th>3</th>\n",
              "      <td>0.03237</td>\n",
              "      <td>0.0</td>\n",
              "      <td>2.18</td>\n",
              "      <td>0</td>\n",
              "      <td>0.458</td>\n",
              "      <td>6.998</td>\n",
              "      <td>45.8</td>\n",
              "      <td>6.0622</td>\n",
              "      <td>3</td>\n",
              "      <td>222.0</td>\n",
              "      <td>18.7</td>\n",
              "      <td>394.63</td>\n",
              "      <td>2.94</td>\n",
              "      <td>33.4</td>\n",
              "    </tr>\n",
              "    <tr>\n",
              "      <th>4</th>\n",
              "      <td>0.06905</td>\n",
              "      <td>0.0</td>\n",
              "      <td>2.18</td>\n",
              "      <td>0</td>\n",
              "      <td>0.458</td>\n",
              "      <td>7.147</td>\n",
              "      <td>54.2</td>\n",
              "      <td>6.0622</td>\n",
              "      <td>3</td>\n",
              "      <td>222.0</td>\n",
              "      <td>18.7</td>\n",
              "      <td>396.90</td>\n",
              "      <td>5.33</td>\n",
              "      <td>36.2</td>\n",
              "    </tr>\n",
              "  </tbody>\n",
              "</table>\n",
              "</div>\n",
              "      <button class=\"colab-df-convert\" onclick=\"convertToInteractive('df-542905bf-f6fa-4c4a-bb77-fdd38de7c6d4')\"\n",
              "              title=\"Convert this dataframe to an interactive table.\"\n",
              "              style=\"display:none;\">\n",
              "        \n",
              "  <svg xmlns=\"http://www.w3.org/2000/svg\" height=\"24px\"viewBox=\"0 0 24 24\"\n",
              "       width=\"24px\">\n",
              "    <path d=\"M0 0h24v24H0V0z\" fill=\"none\"/>\n",
              "    <path d=\"M18.56 5.44l.94 2.06.94-2.06 2.06-.94-2.06-.94-.94-2.06-.94 2.06-2.06.94zm-11 1L8.5 8.5l.94-2.06 2.06-.94-2.06-.94L8.5 2.5l-.94 2.06-2.06.94zm10 10l.94 2.06.94-2.06 2.06-.94-2.06-.94-.94-2.06-.94 2.06-2.06.94z\"/><path d=\"M17.41 7.96l-1.37-1.37c-.4-.4-.92-.59-1.43-.59-.52 0-1.04.2-1.43.59L10.3 9.45l-7.72 7.72c-.78.78-.78 2.05 0 2.83L4 21.41c.39.39.9.59 1.41.59.51 0 1.02-.2 1.41-.59l7.78-7.78 2.81-2.81c.8-.78.8-2.07 0-2.86zM5.41 20L4 18.59l7.72-7.72 1.47 1.35L5.41 20z\"/>\n",
              "  </svg>\n",
              "      </button>\n",
              "      \n",
              "  <style>\n",
              "    .colab-df-container {\n",
              "      display:flex;\n",
              "      flex-wrap:wrap;\n",
              "      gap: 12px;\n",
              "    }\n",
              "\n",
              "    .colab-df-convert {\n",
              "      background-color: #E8F0FE;\n",
              "      border: none;\n",
              "      border-radius: 50%;\n",
              "      cursor: pointer;\n",
              "      display: none;\n",
              "      fill: #1967D2;\n",
              "      height: 32px;\n",
              "      padding: 0 0 0 0;\n",
              "      width: 32px;\n",
              "    }\n",
              "\n",
              "    .colab-df-convert:hover {\n",
              "      background-color: #E2EBFA;\n",
              "      box-shadow: 0px 1px 2px rgba(60, 64, 67, 0.3), 0px 1px 3px 1px rgba(60, 64, 67, 0.15);\n",
              "      fill: #174EA6;\n",
              "    }\n",
              "\n",
              "    [theme=dark] .colab-df-convert {\n",
              "      background-color: #3B4455;\n",
              "      fill: #D2E3FC;\n",
              "    }\n",
              "\n",
              "    [theme=dark] .colab-df-convert:hover {\n",
              "      background-color: #434B5C;\n",
              "      box-shadow: 0px 1px 3px 1px rgba(0, 0, 0, 0.15);\n",
              "      filter: drop-shadow(0px 1px 2px rgba(0, 0, 0, 0.3));\n",
              "      fill: #FFFFFF;\n",
              "    }\n",
              "  </style>\n",
              "\n",
              "      <script>\n",
              "        const buttonEl =\n",
              "          document.querySelector('#df-542905bf-f6fa-4c4a-bb77-fdd38de7c6d4 button.colab-df-convert');\n",
              "        buttonEl.style.display =\n",
              "          google.colab.kernel.accessAllowed ? 'block' : 'none';\n",
              "\n",
              "        async function convertToInteractive(key) {\n",
              "          const element = document.querySelector('#df-542905bf-f6fa-4c4a-bb77-fdd38de7c6d4');\n",
              "          const dataTable =\n",
              "            await google.colab.kernel.invokeFunction('convertToInteractive',\n",
              "                                                     [key], {});\n",
              "          if (!dataTable) return;\n",
              "\n",
              "          const docLinkHtml = 'Like what you see? Visit the ' +\n",
              "            '<a target=\"_blank\" href=https://colab.research.google.com/notebooks/data_table.ipynb>data table notebook</a>'\n",
              "            + ' to learn more about interactive tables.';\n",
              "          element.innerHTML = '';\n",
              "          dataTable['output_type'] = 'display_data';\n",
              "          await google.colab.output.renderOutput(dataTable, element);\n",
              "          const docLink = document.createElement('div');\n",
              "          docLink.innerHTML = docLinkHtml;\n",
              "          element.appendChild(docLink);\n",
              "        }\n",
              "      </script>\n",
              "    </div>\n",
              "  </div>\n",
              "  "
            ],
            "text/plain": [
              "      CRIM    ZN  INDUS  CHAS    NOX  ...    TAX  PTRATIO       B  LSTAT  MEDV\n",
              "0  0.00632  18.0   2.31     0  0.538  ...  296.0     15.3  396.90   4.98  24.0\n",
              "1  0.02731   0.0   7.07     0  0.469  ...  242.0     17.8  396.90   9.14  21.6\n",
              "2  0.02729   0.0   7.07     0  0.469  ...  242.0     17.8  392.83   4.03  34.7\n",
              "3  0.03237   0.0   2.18     0  0.458  ...  222.0     18.7  394.63   2.94  33.4\n",
              "4  0.06905   0.0   2.18     0  0.458  ...  222.0     18.7  396.90   5.33  36.2\n",
              "\n",
              "[5 rows x 14 columns]"
            ]
          },
          "metadata": {},
          "execution_count": 115
        }
      ]
    },
    {
      "cell_type": "code",
      "source": [
        ""
      ],
      "metadata": {
        "id": "IjnZcUdPV-Oi"
      },
      "execution_count": null,
      "outputs": []
    },
    {
      "cell_type": "code",
      "source": [
        "inputs = df.drop(['MEDV'], axis = 1)\n",
        "targets = df['MEDV']\n",
        "inputs = torch.from_numpy(inputs.to_numpy(dtype = 'float32'))\n",
        "targets = torch.from_numpy(targets.to_numpy(dtype = 'float32'))"
      ],
      "metadata": {
        "id": "z3SuKEbgOzEG"
      },
      "execution_count": null,
      "outputs": []
    },
    {
      "cell_type": "code",
      "source": [
        "trainds = TensorDataset(inputs, targets)\n",
        "batch_size = 253\n",
        "traindl = DataLoader(trainds, batch_size, shuffle = True)\n",
        "\n",
        "model = nn.Linear(13, 1)\n",
        "loss_fn = F.mse_loss\n",
        "opt = torch.optim.SGD(model.parameters(), lr = 1e-5)\n",
        "fit(model, 10, loss_fn, opt)"
      ],
      "metadata": {
        "colab": {
          "base_uri": "https://localhost:8080/"
        },
        "id": "jZRL7WYiO8Ez",
        "outputId": "ed8097a3-1798-44a6-9928-a96a7556e7a9"
      },
      "execution_count": null,
      "outputs": [
        {
          "output_type": "stream",
          "name": "stdout",
          "text": [
            "0 :  60019.53125\n",
            "1 :  47667184.0\n",
            "2 :  35618791424.0\n",
            "3 :  28076614352896.0\n",
            "4 :  2.023204474322944e+16\n",
            "5 :  1.6025913038951416e+19\n",
            "6 :  1.226305971684989e+22\n",
            "7 :  9.280503909094064e+24\n",
            "8 :  7.27497262057502e+27\n",
            "9 :  5.558147072390752e+30\n"
          ]
        },
        {
          "output_type": "stream",
          "name": "stderr",
          "text": [
            "/usr/local/lib/python3.7/dist-packages/ipykernel_launcher.py:6: UserWarning: Using a target size (torch.Size([253])) that is different to the input size (torch.Size([253, 1])). This will likely lead to incorrect results due to broadcasting. Please ensure they have the same size.\n",
            "  \n"
          ]
        }
      ]
    }
  ]
}